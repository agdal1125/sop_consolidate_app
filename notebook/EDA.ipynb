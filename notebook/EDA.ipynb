{
 "cells": [
  {
   "cell_type": "code",
   "execution_count": 1,
   "metadata": {},
   "outputs": [],
   "source": [
    "import os\n",
    "\n",
    "path = \"/Users/Public/Desktop/SOPs/\""
   ]
  },
  {
   "cell_type": "markdown",
   "metadata": {},
   "source": [
    "### Data files"
   ]
  },
  {
   "cell_type": "code",
   "execution_count": 2,
   "metadata": {},
   "outputs": [],
   "source": [
    "files = os.listdir(path)"
   ]
  },
  {
   "cell_type": "code",
   "execution_count": 3,
   "metadata": {},
   "outputs": [
    {
     "data": {
      "text/plain": [
       "'AB - 1033 - Officer in trouble.docx'"
      ]
     },
     "execution_count": 3,
     "metadata": {},
     "output_type": "execute_result"
    }
   ],
   "source": [
    "files[0]"
   ]
  },
  {
   "cell_type": "code",
   "execution_count": 8,
   "metadata": {},
   "outputs": [],
   "source": [
    "agencies = []\n",
    "call_actions = []\n",
    "SOP_count_by_agency = {}\n",
    "\n",
    "for file in files:\n",
    "    ag = file.split(\" - \")[0]\n",
    "    agencies.append(ag)\n",
    "    \n",
    "    call = file.split(\" - \")[1].strip()\n",
    "    call_actions.append(call)\n",
    "    try:\n",
    "        SOP_count_by_agency[ag] += 1\n",
    "    except:\n",
    "        SOP_count_by_agency[ag] = 1\n",
    "    \n",
    "agency_list = set(agencies)\n",
    "call_list = set(call_actions)"
   ]
  },
  {
   "cell_type": "code",
   "execution_count": 9,
   "metadata": {
    "scrolled": true
   },
   "outputs": [
    {
     "data": {
      "text/plain": [
       "24"
      ]
     },
     "execution_count": 9,
     "metadata": {},
     "output_type": "execute_result"
    }
   ],
   "source": [
    "len(agency_list)"
   ]
  },
  {
   "cell_type": "code",
   "execution_count": 10,
   "metadata": {
    "scrolled": false
   },
   "outputs": [
    {
     "data": {
      "text/plain": [
       "{'AB',\n",
       " 'BI',\n",
       " 'BU',\n",
       " 'CO',\n",
       " 'DE',\n",
       " 'DF PF',\n",
       " 'DFPF',\n",
       " 'ECVI',\n",
       " 'FVRD  RDNO',\n",
       " 'FVRD RDNO',\n",
       " 'NW',\n",
       " 'PO',\n",
       " 'RI',\n",
       " 'RM',\n",
       " 'SC',\n",
       " 'SCRD',\n",
       " 'SLRD',\n",
       " 'SQ',\n",
       " 'SQ- PROP',\n",
       " 'SX',\n",
       " 'UN',\n",
       " 'VA',\n",
       " 'WP',\n",
       " 'WV'}"
      ]
     },
     "execution_count": 10,
     "metadata": {},
     "output_type": "execute_result"
    }
   ],
   "source": [
    "agency_list"
   ]
  },
  {
   "cell_type": "markdown",
   "metadata": {},
   "source": [
    "## Total Number of agencies: 21"
   ]
  },
  {
   "cell_type": "markdown",
   "metadata": {},
   "source": [
    "Misnamed documents:\n",
    "\n",
    "> Should have two spaces between FVRD and RDNO\n",
    "- FVRD RDNO - STAFF - Core staffing.docx \n",
    "\n",
    "> Should have a space between SQ and -\n",
    "- SQ- PROP - Property lost, found or seized.docx\n",
    "\n",
    "> Inconsistent Agency Name\n",
    "- `DF PF` vs `DFPF` "
   ]
  },
  {
   "cell_type": "code",
   "execution_count": 19,
   "metadata": {},
   "outputs": [],
   "source": [
    "call_codes = []\n",
    "for x in call_list:\n",
    "    x = x.replace(\".docx\",\"\")\n",
    "    call_code = x.split(\" \")[0]\n",
    "    details = \" \".join(x.split(\" \")[1:])\n",
    "    call_codes.append(call_code)\n",
    "    call_codes.append(details)\n",
    "call_codes = set(call_codes)"
   ]
  },
  {
   "cell_type": "code",
   "execution_count": 20,
   "metadata": {},
   "outputs": [
    {
     "data": {
      "text/plain": [
       "241"
      ]
     },
     "execution_count": 20,
     "metadata": {},
     "output_type": "execute_result"
    }
   ],
   "source": [
    "len(sorted(call_codes))"
   ]
  },
  {
   "cell_type": "code",
   "execution_count": 21,
   "metadata": {},
   "outputs": [
    {
     "name": "stdout",
     "output_type": "stream",
     "text": [
      "\n",
      "1033\n",
      "911\n",
      "AB911\n",
      "ABANDV\n",
      "ABDUC\n",
      "ACEM\n",
      "ACF\n",
      "ACRA\n",
      "AIREM\n",
      "ALARM\n",
      "ALARMA\n",
      "ALARMD\n",
      "ALARMH\n",
      "ALARMS\n",
      "ALRM123\n",
      "ANIMAL\n",
      "ANNOY\n",
      "ARREST\n",
      "ARSON\n",
      "ASIST\n",
      "ASLT\n",
      "ASLTI\n",
      "ASLTSX\n",
      "ASSGP\n",
      "ASSMHA\n",
      "ASSOA\n",
      "ASSPFA\n",
      "Abandoned 911 Cell\n",
      "Abandoned 911 Landline\n",
      "Abduction\n",
      "Air Emergency\n",
      "Alarm\n",
      "Alarm Airport Check Point\n",
      "Alarm DVERS\n",
      "Alarm Hold Up\n",
      "Alarm Silent Panic\n",
      "Animal\n",
      "Annoying Circumstances\n",
      "Arrest\n",
      "Arson\n",
      "Assault\n",
      "Assault In Progress\n",
      "Assault Sexual\n",
      "Assist General Public\n",
      "Assist Mental Health Act\n",
      "Assist Other Agency\n",
      "Assist Police Fire Ambulance\n",
      "BAIT\n",
      "BAIT-Bait\n",
      "BBQF\n",
      "BNE\n",
      "BNEI\n",
      "BOMB\n",
      "BORDR\n",
      "BREACH\n",
      "BYLAW\n",
      "Bait Car Activated\n",
      "Bomb Threat\n",
      "Border Runner\n",
      "Breach\n",
      "Break And Enter\n",
      "Break And Enter In Progress\n",
      "Bylaw\n",
      "CHECK\n",
      "CHIM\n",
      "COUNT\n",
      "COUNTERFEIT\n",
      "Car Activation\n",
      "Check Wellbeing\n",
      "Counterfeit Currency\n",
      "DEMON\n",
      "DISTB\n",
      "DNA\n",
      "DNA Collection\n",
      "DOMI\n",
      "DOMRPT\n",
      "DRUGS\n",
      "Demonstration Protest\n",
      "Disturbance\n",
      "Domestic In Progress\n",
      "Domestic Report\n",
      "Drugs\n",
      "ELEC12\n",
      "EXP123\n",
      "EXPLOS\n",
      "EXTORT\n",
      "Explosives\n",
      "Extortion\n",
      "FBOAT\n",
      "FIGHT\n",
      "FIREAR\n",
      "FOUNDP\n",
      "FRAUD\n",
      "Fight\n",
      "Firearms For Pickup Transport\n",
      "Found Person\n",
      "Fraud\n",
      "GAS1234\n",
      "HARASS\n",
      "HAZARD\n",
      "HAZM123\n",
      "HOMEIN\n",
      "HOSTAG\n",
      "Harassment\n",
      "Hazardous Situation\n",
      "Home Invasion\n",
      "Hostage\n",
      "ILBRN\n",
      "IMPAIR\n",
      "INDEC\n",
      "INDUST\n",
      "INSEC\n",
      "INTELL\n",
      "Impaired\n",
      "Indecent Act\n",
      "Industrial Accident\n",
      "Insecure Premises Or Vehicle\n",
      "Intelligence Information\n",
      "JUMPER\n",
      "Jumper\n",
      "KPEACE\n",
      "Keep The Peace\n",
      "LIQUOR\n",
      "Landline\n",
      "Liquor Act Licensed Premises Check\n",
      "MAND\n",
      "MARINE\n",
      "MED12A\n",
      "MISCH\n",
      "MISCHI\n",
      "MISSIC\n",
      "MISSIP\n",
      "MUAID\n",
      "MUNI\n",
      "MVI\n",
      "MVI Hit And Run\n",
      "MVI Injury\n",
      "MVI Police Vehicle\n",
      "MVI12345\n",
      "MVIHR\n",
      "MVIINJ\n",
      "MVIPOL\n",
      "Man Down\n",
      "Marine Incident\n",
      "Misch\n",
      "Mischief\n",
      "Mischief In Progress\n",
      "Missing Child\n",
      "Missing Person\n",
      "NOK\n",
      "Next Of Kin Notification\n",
      "OCC\n",
      "ODOUU\n",
      "OVERD\n",
      "Officer in trouble\n",
      "Other Criminal Code\n",
      "Overdose\n",
      "PANHA\n",
      "PARK\n",
      "POLE\n",
      "PREV\n",
      "PROP\n",
      "PROST\n",
      "PROST.docX\n",
      "PROWL\n",
      "PURSUE\n",
      "Panhandler\n",
      "Parking\n",
      "Police\n",
      "Property\n",
      "Prostitution\n",
      "Prowler\n",
      "Pursue\n",
      "Pursuit\n",
      "R\n",
      "RECVEH\n",
      "RES123M\n",
      "ROBB\n",
      "ROBBI\n",
      "RUBSH\n",
      "Recovered Vehicle\n",
      "Robbery\n",
      "Robbery In Progress\n",
      "SCOB\n",
      "SCOLL\n",
      "SCREAM\n",
      "SHIP123\n",
      "SHOPL\n",
      "SHOTS\n",
      "SIP\n",
      "SIPP DIPP\n",
      "SMK123\n",
      "SPAT\n",
      "ST123\n",
      "STAFF\n",
      "STALK\n",
      "STOVE\n",
      "SUDDEN\n",
      "SUICID\n",
      "SUSPC\n",
      "SUSPP\n",
      "SUSPV\n",
      "Scream\n",
      "Shoplifter\n",
      "Shots Fired Heard\n",
      "Special Attention Detail Event\n",
      "Stalking\n",
      "Sudden Death\n",
      "Suicidal Person\n",
      "Suspicious Circumstances\n",
      "Suspicious Person\n",
      "Suspicious Vehicle\n",
      "TEST\n",
      "THEFT\n",
      "THEFTI\n",
      "THEFTV\n",
      "THREATS\n",
      "TRAFF\n",
      "TRAFFS\n",
      "Theft\n",
      "Theft In Progress\n",
      "Theft Of Vehicle\n",
      "Threats\n",
      "Traffic Incident\n",
      "Traffic Suspension 24 HR 12 HR Prohib Notice\n",
      "UNWANT\n",
      "Unwanted Person\n",
      "VAULT\n",
      "VEF123\n",
      "WARRAN\n",
      "WATER\n",
      "WEAPON\n",
      "WILD123\n",
      "WIRE12\n",
      "Warrant\n",
      "Weapon\n",
      "YOUTH\n",
      "Youth\n",
      "cell\n",
      "lost, found or seized\n"
     ]
    }
   ],
   "source": [
    "for x in sorted(call_codes):\n",
    "    print(x)"
   ]
  },
  {
   "cell_type": "markdown",
   "metadata": {},
   "source": [
    "## Total Number of Call Actions: 278"
   ]
  },
  {
   "cell_type": "markdown",
   "metadata": {},
   "source": [
    "> Many variations within the same call action\n",
    "- ex) `ECVI - THEFT Theft.docx`  vs `NW - THEFT.docx`"
   ]
  },
  {
   "cell_type": "code",
   "execution_count": 67,
   "metadata": {},
   "outputs": [],
   "source": [
    "SOP_count_by_agency[\"DFPF\"] += SOP_count_by_agency['DF PF']\n",
    "SOP_count_by_agency[\"FVRD RDNO\"] += SOP_count_by_agency['FVRD  RDNO']\n",
    "SOP_count_by_agency[\"SQ\"] += SOP_count_by_agency['SQ- PROP']\n",
    "\n",
    "del SOP_count_by_agency['DF PF']\n",
    "del SOP_count_by_agency['FVRD  RDNO']\n",
    "del SOP_count_by_agency['SQ- PROP']\n"
   ]
  },
  {
   "cell_type": "code",
   "execution_count": 68,
   "metadata": {},
   "outputs": [],
   "source": [
    "import pandas as pd\n",
    "\n",
    "sorted_SOP_count = {k:v for k,v in sorted(SOP_count_by_agency.items(), key=lambda kv: kv[1],reverse=True )}\n",
    "df = pd.Series(sorted_SOP_count).to_frame().T\n",
    "df = df.melt(var_name=\"Agency\", value_name=\"SOP number\")"
   ]
  },
  {
   "cell_type": "code",
   "execution_count": 75,
   "metadata": {
    "scrolled": true
   },
   "outputs": [
    {
     "data": {
      "text/plain": [
       "Text(0.5, 1.0, 'Number of SOP by Agency')"
      ]
     },
     "execution_count": 75,
     "metadata": {},
     "output_type": "execute_result"
    },
    {
     "data": {
      "image/png": "[encoded data removed]",
      "text/plain": [
       "<Figure size 1152x648 with 1 Axes>"
      ]
     },
     "metadata": {},
     "output_type": "display_data"
    }
   ],
   "source": [
    "import seaborn as sns\n",
    "import matplotlib.pyplot as plt\n",
    "\n",
    "dim = (16,9)\n",
    "fig, ax = plt.subplots(figsize=dim)\n",
    "sns.set(palette=\"Blues_d\")\n",
    "sns.barplot(x=\"Agency\", y=\"SOP number\", data=df)\n",
    "plt.xticks(rotation=45)\n",
    "plt.title(\"Number of SOP by Agency\", size=20)"
   ]
  },
  {
   "cell_type": "markdown",
   "metadata": {},
   "source": [
    "# Process SOP Description"
   ]
  },
  {
   "cell_type": "code",
   "execution_count": 46,
   "metadata": {},
   "outputs": [],
   "source": [
    "import os\n",
    "import json\n",
    "from docx import Document\n",
    "from io import StringIO, BytesIO\n",
    "import re\n",
    "\n",
    "def parse_docx_dict(filepath):\n",
    "    with open(filepath, 'rb') as f:\n",
    "        source_stream = BytesIO(f.read())\n",
    "    f.close()\n",
    "    doc = Document(source_stream)\n",
    "    paras = doc.paragraphs\n",
    "    for p in paras:\n",
    "        style = p.style.name\n",
    "        text = p.text\n",
    "        if style == 'Normal':\n",
    "            return text\n",
    "        else:\n",
    "            print(\"Error\")"
   ]
  },
  {
   "cell_type": "code",
   "execution_count": 44,
   "metadata": {},
   "outputs": [],
   "source": [
    "with open(filepath, 'rb') as f:\n",
    "    source_stream = BytesIO(f.read())\n",
    "f.close()\n",
    "doc = Document(source_stream)\n",
    "paras = doc.paragraphs\n",
    "res = dict()\n",
    "head1, head2 = None, None\n",
    "    "
   ]
  },
  {
   "cell_type": "code",
   "execution_count": 45,
   "metadata": {},
   "outputs": [
    {
     "name": "stdout",
     "output_type": "stream",
     "text": [
      "Normal\n",
      "This is the SOP for the 1033 – Officer in trouble event type.\n",
      "\n",
      "\n",
      "Heading 1\n",
      "call taker\n",
      "\n",
      "\n",
      "Style1\n",
      "Create a call\n",
      "\n",
      "\n",
      "Style1\n",
      "Questions\n",
      "\n",
      "\n",
      "Style1\n",
      "Are there weapons involved?\n",
      "\n",
      "\n",
      "Style1\n",
      "What is the exact location, i.e. backyard, alley?\n",
      "\n",
      "\n",
      "Style1\n",
      "Is the member in uniform or plain clothes?\n",
      "\n",
      "\n",
      "Style1\n",
      "Are there other members at the scene?\n",
      "\n",
      "\n",
      "Style1\n",
      "Can you see a police vehicle? If so, where? What type of vehicle (i.e. marked / unmarked)? Is there a vehicle identification number visible?\n",
      "\n",
      "\n",
      "Heading 1\n",
      "dispatcher\n",
      "\n",
      "\n",
      "Style1\n",
      "Activate the channel marker tone\n",
      "\n",
      "\n",
      "Style1\n",
      "Broadcast the unit call sign and 10-33 at the location provided\n",
      "\n",
      "\n",
      "Style1\n",
      "Attempt to contact the unit/member in question, if the unit ID is not known call the unit at the location given\n",
      "\n",
      "\n",
      "Style1\n",
      "If voice contact is made with the unit, determine their status\n",
      "\n",
      "\n",
      "Style1\n",
      "If voice contact is not made repeat attempt to contact the unit/member\n",
      "\n",
      "\n",
      "Style1\n",
      "Create a call\n",
      "\n",
      "\n",
      "Style1\n",
      "Assign a member\n",
      "\n",
      "\n",
      "Style1\n",
      "Notify the Duty NCO / Watch Commander\n",
      "\n",
      "\n",
      "Style1\n",
      "Assign additional cover units until otherwise advised\n",
      "\n",
      "\n",
      "Style1\n",
      "Await direction from field supervisor to remove the channel marker tone\n",
      "\n",
      "\n",
      "Heading 2\n",
      "1033 activations by member over the radio\n",
      "\n",
      "\n",
      "Style1\n",
      "Refer to Instructions – \n",
      "\n",
      "\n"
     ]
    }
   ],
   "source": [
    "for p in paras:\n",
    "    style = p.style.name\n",
    "    text = p.text\n",
    "    \n",
    "    print(style)\n",
    "    print(text)\n",
    "    print('\\n')"
   ]
  },
  {
   "cell_type": "code",
   "execution_count": 40,
   "metadata": {},
   "outputs": [
    {
     "ename": "KeyError",
     "evalue": "None",
     "output_type": "error",
     "traceback": [
      "\u001b[1;31m---------------------------------------------------------------------------\u001b[0m",
      "\u001b[1;31mKeyError\u001b[0m                                  Traceback (most recent call last)",
      "\u001b[1;32m<ipython-input-40-8551e50349ec>\u001b[0m in \u001b[0;36m<module>\u001b[1;34m\u001b[0m\n\u001b[0;32m      3\u001b[0m \u001b[1;32mfor\u001b[0m \u001b[0mf\u001b[0m \u001b[1;32min\u001b[0m \u001b[0mfiles\u001b[0m\u001b[1;33m:\u001b[0m\u001b[1;33m\u001b[0m\u001b[1;33m\u001b[0m\u001b[0m\n\u001b[0;32m      4\u001b[0m     \u001b[0mfilepath\u001b[0m \u001b[1;33m=\u001b[0m \u001b[0mpath\u001b[0m \u001b[1;33m+\u001b[0m \u001b[0mf\u001b[0m\u001b[1;33m\u001b[0m\u001b[1;33m\u001b[0m\u001b[0m\n\u001b[1;32m----> 5\u001b[1;33m     \u001b[0mjsn\u001b[0m \u001b[1;33m=\u001b[0m \u001b[0mparse_docx_dict\u001b[0m\u001b[1;33m(\u001b[0m\u001b[0mfilepath\u001b[0m\u001b[1;33m)\u001b[0m\u001b[1;33m\u001b[0m\u001b[1;33m\u001b[0m\u001b[0m\n\u001b[0m\u001b[0;32m      6\u001b[0m     \u001b[0mjsons\u001b[0m\u001b[1;33m.\u001b[0m\u001b[0mappend\u001b[0m\u001b[1;33m(\u001b[0m\u001b[0mjsn\u001b[0m\u001b[1;33m)\u001b[0m\u001b[1;33m\u001b[0m\u001b[1;33m\u001b[0m\u001b[0m\n",
      "\u001b[1;32m<ipython-input-39-83e8b176324b>\u001b[0m in \u001b[0;36mparse_docx_dict\u001b[1;34m(filepath)\u001b[0m\n\u001b[0;32m     18\u001b[0m             \u001b[0mres\u001b[0m\u001b[1;33m[\u001b[0m\u001b[0mhead1\u001b[0m\u001b[1;33m]\u001b[0m\u001b[1;33m[\u001b[0m\u001b[0mhead2\u001b[0m\u001b[1;33m]\u001b[0m \u001b[1;33m=\u001b[0m \u001b[0mlist\u001b[0m\u001b[1;33m(\u001b[0m\u001b[1;33m)\u001b[0m\u001b[1;33m\u001b[0m\u001b[1;33m\u001b[0m\u001b[0m\n\u001b[0;32m     19\u001b[0m         \u001b[1;32melif\u001b[0m \u001b[0mstyle\u001b[0m \u001b[1;33m==\u001b[0m \u001b[1;34m'Style1'\u001b[0m\u001b[1;33m:\u001b[0m\u001b[1;33m\u001b[0m\u001b[1;33m\u001b[0m\u001b[0m\n\u001b[1;32m---> 20\u001b[1;33m             \u001b[0mres\u001b[0m\u001b[1;33m[\u001b[0m\u001b[0mhead1\u001b[0m\u001b[1;33m]\u001b[0m\u001b[1;33m[\u001b[0m\u001b[0mhead2\u001b[0m\u001b[1;33m]\u001b[0m\u001b[1;33m.\u001b[0m\u001b[0mappend\u001b[0m\u001b[1;33m(\u001b[0m\u001b[0mtext\u001b[0m\u001b[1;33m)\u001b[0m\u001b[1;33m\u001b[0m\u001b[1;33m\u001b[0m\u001b[0m\n\u001b[0m\u001b[0;32m     21\u001b[0m         \u001b[1;32melif\u001b[0m \u001b[0mstyle\u001b[0m \u001b[1;33m==\u001b[0m \u001b[1;34m\"Normal\"\u001b[0m\u001b[1;33m:\u001b[0m\u001b[1;33m\u001b[0m\u001b[1;33m\u001b[0m\u001b[0m\n\u001b[0;32m     22\u001b[0m             \u001b[0mres\u001b[0m\u001b[1;33m[\u001b[0m\u001b[1;34m\"description\"\u001b[0m\u001b[1;33m]\u001b[0m \u001b[1;33m=\u001b[0m \u001b[0mtext\u001b[0m\u001b[1;33m\u001b[0m\u001b[1;33m\u001b[0m\u001b[0m\n",
      "\u001b[1;31mKeyError\u001b[0m: None"
     ]
    }
   ],
   "source": [
    "jsons = list()\n",
    "\n",
    "for f in files:\n",
    "    filepath = path + f\n",
    "    jsn = parse_docx_dict(filepath)\n",
    "    jsons.append(jsn)"
   ]
  },
  {
   "cell_type": "code",
   "execution_count": null,
   "metadata": {},
   "outputs": [],
   "source": [
    "call_situations = dict()\n",
    "situation_adjust = [\n",
    "    'animal bites'\n",
    "]\n",
    "situation_reg = f\"({'|'.join(situation_adjust)})\"\n",
    "for df in jsons:\n",
    "    for k, v in df['call taker'].items():\n",
    "        k = k.lower().strip()\n",
    "        isMatch = re.search(situation_reg, k)\n",
    "        k = k if not isMatch else isMatch.group()\n",
    "        if k in call_situations:\n",
    "            call_situations[k].append(v)\n",
    "        else:\n",
    "            call_situations[k] = [v]"
   ]
  },
  {
   "cell_type": "code",
   "execution_count": null,
   "metadata": {},
   "outputs": [],
   "source": [
    "call_situations_json = json.dumps(call_situations, indent = 4)\n",
    "print(call_situations_json)"
   ]
  },
  {
   "cell_type": "code",
   "execution_count": null,
   "metadata": {},
   "outputs": [],
   "source": [
    "outfile_name = 'data/interim/sample_call_situations.txt'\n",
    "with open(outfile_name, 'w') as outfile:\n",
    "    json.dump(call_situations_json, outfile)\n",
    "outfile.close()"
   ]
  }
 ],
 "metadata": {
  "kernelspec": {
   "display_name": "Python 3",
   "language": "python",
   "name": "python3"
  },
  "language_info": {
   "codemirror_mode": {
    "name": "ipython",
    "version": 3
   },
   "file_extension": ".py",
   "mimetype": "text/x-python",
   "name": "python",
   "nbconvert_exporter": "python",
   "pygments_lexer": "ipython3",
   "version": "3.7.6"
  }
 },
 "nbformat": 4,
 "nbformat_minor": 4
}
