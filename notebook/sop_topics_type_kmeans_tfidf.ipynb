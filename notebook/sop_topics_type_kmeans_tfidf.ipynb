{
 "cells": [
  {
   "cell_type": "code",
   "execution_count": 1,
   "metadata": {},
   "outputs": [],
   "source": [
    "import os\n",
    "import json\n",
    "from docx import Document\n",
    "from io import StringIO, BytesIO\n",
    "import re\n",
    "import time\n",
    "import datetime\n",
    "\n",
    "import pandas as pd\n",
    "import json\n",
    "import spacy\n",
    "from nltk.corpus import stopwords\n",
    "\n",
    "from gensim.models import LdaModel\n",
    "from gensim.models.wrappers import LdaMallet\n",
    "import gensim.corpora as corpora\n",
    "from gensim.corpora import Dictionary\n",
    "from gensim import matutils, models\n",
    "from gensim.models import CoherenceModel, TfidfModel, HdpModel\n",
    "from gensim.models.phrases import Phrases, Phraser\n",
    "import pyLDAvis.gensim\n",
    "\n",
    "from sklearn.cluster import KMeans\n",
    "from scipy.sparse import csc_matrix\n",
    "from gensim.matutils import corpus2csc\n",
    "from matplotlib.ticker import MaxNLocator\n",
    "from sklearn.metrics import silhouette_score\n",
    "from sklearn.metrics.pairwise import cosine_similarity\n",
    "\n",
    "from docx import Document\n",
    "from io import StringIO, BytesIO\n",
    "import matplotlib.pyplot as plt\n",
    "%matplotlib inline\n",
    "plt.rcParams.update({'font.size': 14, 'lines.linewidth': 3})"
   ]
  },
  {
   "cell_type": "code",
   "execution_count": 2,
   "metadata": {},
   "outputs": [],
   "source": [
    "t0 = time.time()"
   ]
  },
  {
   "cell_type": "code",
   "execution_count": 3,
   "metadata": {},
   "outputs": [],
   "source": [
    "nlp = spacy.load(\"en_core_web_sm\")\n",
    "# stop_words = set(stopwords.words('english'))"
   ]
  },
  {
   "cell_type": "code",
   "execution_count": 4,
   "metadata": {
    "scrolled": true
   },
   "outputs": [],
   "source": [
    "notebook_dir = os.getcwd()\n",
    "sop_df = pd.read_csv('../data/interim/sop_types_valid.csv', \n",
    "                     converters = {'juri': eval, \n",
    "                                   'filename': eval})"
   ]
  },
  {
   "cell_type": "code",
   "execution_count": 5,
   "metadata": {},
   "outputs": [
    {
     "data": {
      "text/html": [
       "<div>\n",
       "<style scoped>\n",
       "    .dataframe tbody tr th:only-of-type {\n",
       "        vertical-align: middle;\n",
       "    }\n",
       "\n",
       "    .dataframe tbody tr th {\n",
       "        vertical-align: top;\n",
       "    }\n",
       "\n",
       "    .dataframe thead th {\n",
       "        text-align: right;\n",
       "    }\n",
       "</style>\n",
       "<table border=\"1\" class=\"dataframe\">\n",
       "  <thead>\n",
       "    <tr style=\"text-align: right;\">\n",
       "      <th></th>\n",
       "      <th>type</th>\n",
       "      <th>juri</th>\n",
       "      <th>filename</th>\n",
       "      <th>juri_count</th>\n",
       "    </tr>\n",
       "  </thead>\n",
       "  <tbody>\n",
       "    <tr>\n",
       "      <th>0</th>\n",
       "      <td>1033</td>\n",
       "      <td>[AB, BI, BU, DE, DFPF, NW, PO, RI, RM, SC, SQ,...</td>\n",
       "      <td>[AB - 1033 - Officer in trouble.docx, BI - 103...</td>\n",
       "      <td>16</td>\n",
       "    </tr>\n",
       "    <tr>\n",
       "      <th>1</th>\n",
       "      <td>DOMI</td>\n",
       "      <td>[AB, BI, BU, DE, DFPF, NW, PO, RI, RM, SC, SQ,...</td>\n",
       "      <td>[AB - DOMI - Domestic in progress.docx, BI - D...</td>\n",
       "      <td>16</td>\n",
       "    </tr>\n",
       "    <tr>\n",
       "      <th>2</th>\n",
       "      <td>FOUNDP</td>\n",
       "      <td>[AB, BI, BU, DE, DFPF, NW, PO, RI, RM, SC, SQ,...</td>\n",
       "      <td>[AB - FOUNDP - Found Person.docx, BI - FOUNDP ...</td>\n",
       "      <td>16</td>\n",
       "    </tr>\n",
       "  </tbody>\n",
       "</table>\n",
       "</div>"
      ],
      "text/plain": [
       "     type                                               juri  \\\n",
       "0    1033  [AB, BI, BU, DE, DFPF, NW, PO, RI, RM, SC, SQ,...   \n",
       "1    DOMI  [AB, BI, BU, DE, DFPF, NW, PO, RI, RM, SC, SQ,...   \n",
       "2  FOUNDP  [AB, BI, BU, DE, DFPF, NW, PO, RI, RM, SC, SQ,...   \n",
       "\n",
       "                                            filename  juri_count  \n",
       "0  [AB - 1033 - Officer in trouble.docx, BI - 103...          16  \n",
       "1  [AB - DOMI - Domestic in progress.docx, BI - D...          16  \n",
       "2  [AB - FOUNDP - Found Person.docx, BI - FOUNDP ...          16  "
      ]
     },
     "execution_count": 5,
     "metadata": {},
     "output_type": "execute_result"
    }
   ],
   "source": [
    "sop_df.head(3)"
   ]
  },
  {
   "cell_type": "code",
   "execution_count": 6,
   "metadata": {},
   "outputs": [],
   "source": [
    "type_list = sop_df['type']"
   ]
  },
  {
   "cell_type": "code",
   "execution_count": 7,
   "metadata": {},
   "outputs": [],
   "source": [
    "def load_event_role(event_type, role):\n",
    "    with open(F'../data/sop_jsons/{event_type}.txt') as f:\n",
    "        dct = json.load(f)\n",
    "    f.close()\n",
    "    event_row = sop_df[sop_df['type'] == event_type]\n",
    "    juri_to_filename = dict(zip(event_row['juri'].values[0], \n",
    "                                event_row['filename'].values[0]))\n",
    "    types, juris, roles, sops = list(), list(), list(), list()\n",
    "    for juri, role_sop in dct.items():\n",
    "        if role in role_sop:\n",
    "            types.append(event_type)\n",
    "            juris.append(juri)\n",
    "            roles.append(role)\n",
    "            sops.append(role_sop[role])\n",
    "    df = pd.DataFrame({'type': types, 'juri': juris, 'role': roles, 'sop': sops})\n",
    "    df['filename'] = df['juri'].apply(lambda x: juri_to_filename[x])\n",
    "    return df"
   ]
  },
  {
   "cell_type": "code",
   "execution_count": 8,
   "metadata": {},
   "outputs": [],
   "source": [
    "def load_event_types_for_role(types, role):\n",
    "    res = pd.DataFrame()\n",
    "    for t in types:\n",
    "        res = res.append(load_event_role(t, role))\n",
    "    return res.reset_index(drop = True)"
   ]
  },
  {
   "cell_type": "code",
   "execution_count": 9,
   "metadata": {
    "scrolled": true
   },
   "outputs": [],
   "source": [
    "try:\n",
    "    calltaker_all = pd.read_csv(\n",
    "        '../data/interim/calltaker_all.csv', \n",
    "        converters = {'sop': eval}\n",
    "    )\n",
    "except:\n",
    "    calltaker_all = load_event_types_for_role(type_list, 'call taker')"
   ]
  },
  {
   "cell_type": "code",
   "execution_count": 10,
   "metadata": {
    "scrolled": true
   },
   "outputs": [
    {
     "data": {
      "text/html": [
       "<div>\n",
       "<style scoped>\n",
       "    .dataframe tbody tr th:only-of-type {\n",
       "        vertical-align: middle;\n",
       "    }\n",
       "\n",
       "    .dataframe tbody tr th {\n",
       "        vertical-align: top;\n",
       "    }\n",
       "\n",
       "    .dataframe thead th {\n",
       "        text-align: right;\n",
       "    }\n",
       "</style>\n",
       "<table border=\"1\" class=\"dataframe\">\n",
       "  <thead>\n",
       "    <tr style=\"text-align: right;\">\n",
       "      <th></th>\n",
       "      <th>type</th>\n",
       "      <th>juri</th>\n",
       "      <th>role</th>\n",
       "      <th>sop</th>\n",
       "      <th>filename</th>\n",
       "    </tr>\n",
       "  </thead>\n",
       "  <tbody>\n",
       "    <tr>\n",
       "      <th>0</th>\n",
       "      <td>1033</td>\n",
       "      <td>AB</td>\n",
       "      <td>call taker</td>\n",
       "      <td>[Create a call, Questions, Are there weapons i...</td>\n",
       "      <td>AB - 1033 - Officer in trouble.docx</td>\n",
       "    </tr>\n",
       "    <tr>\n",
       "      <th>1</th>\n",
       "      <td>1033</td>\n",
       "      <td>BI</td>\n",
       "      <td>call taker</td>\n",
       "      <td>[Create a call, Questions, Are there weapons i...</td>\n",
       "      <td>BI - 1033 - Officer in trouble.docx</td>\n",
       "    </tr>\n",
       "    <tr>\n",
       "      <th>2</th>\n",
       "      <td>1033</td>\n",
       "      <td>BU</td>\n",
       "      <td>call taker</td>\n",
       "      <td>[Create a call, Questions, Are there weapons i...</td>\n",
       "      <td>BU - 1033 - Officer in trouble.docx</td>\n",
       "    </tr>\n",
       "    <tr>\n",
       "      <th>3</th>\n",
       "      <td>1033</td>\n",
       "      <td>DE</td>\n",
       "      <td>call taker</td>\n",
       "      <td>[Create a call, Questions, Are there weapons i...</td>\n",
       "      <td>DE - 1033 - Officer in trouble.docx</td>\n",
       "    </tr>\n",
       "    <tr>\n",
       "      <th>4</th>\n",
       "      <td>1033</td>\n",
       "      <td>DFPF</td>\n",
       "      <td>call taker</td>\n",
       "      <td>[Create a call, Questions, Are there weapons i...</td>\n",
       "      <td>DFPF - 1033 - Officer in trouble.docx</td>\n",
       "    </tr>\n",
       "  </tbody>\n",
       "</table>\n",
       "</div>"
      ],
      "text/plain": [
       "   type  juri        role                                                sop  \\\n",
       "0  1033    AB  call taker  [Create a call, Questions, Are there weapons i...   \n",
       "1  1033    BI  call taker  [Create a call, Questions, Are there weapons i...   \n",
       "2  1033    BU  call taker  [Create a call, Questions, Are there weapons i...   \n",
       "3  1033    DE  call taker  [Create a call, Questions, Are there weapons i...   \n",
       "4  1033  DFPF  call taker  [Create a call, Questions, Are there weapons i...   \n",
       "\n",
       "                                filename  \n",
       "0    AB - 1033 - Officer in trouble.docx  \n",
       "1    BI - 1033 - Officer in trouble.docx  \n",
       "2    BU - 1033 - Officer in trouble.docx  \n",
       "3    DE - 1033 - Officer in trouble.docx  \n",
       "4  DFPF - 1033 - Officer in trouble.docx  "
      ]
     },
     "execution_count": 10,
     "metadata": {},
     "output_type": "execute_result"
    }
   ],
   "source": [
    "calltaker_all.head()#['sop'].tolist()[0]"
   ]
  },
  {
   "cell_type": "code",
   "execution_count": 11,
   "metadata": {},
   "outputs": [
    {
     "data": {
      "text/plain": [
       "(1468, 5)"
      ]
     },
     "execution_count": 11,
     "metadata": {},
     "output_type": "execute_result"
    }
   ],
   "source": [
    "calltaker_all.shape"
   ]
  },
  {
   "cell_type": "code",
   "execution_count": 12,
   "metadata": {},
   "outputs": [],
   "source": [
    "def preprocess(strlist,\n",
    "               min_token_len = 2,\n",
    "               allowed_pos = ['ADV', 'ADJ', 'VERB', 'NOUN', 'PART', 'NUM', 'PROPN']): \n",
    "    removal = ['-', r'i\\.e\\.']\n",
    "    res = list()\n",
    "    not_stopword = {'call'}\n",
    "    for string in strlist:\n",
    "        text = re.sub(r\"|\".join(removal), ' ', string.lower())\n",
    "        doc = nlp(text)\n",
    "        res += [token.lemma_ for token in doc \\\n",
    "               if token.pos_ in allowed_pos \\\n",
    "               # Spacy considers 'call' as a stop word, which is not suitable for our case\n",
    "               and (token.text in not_stopword or not token.is_stop) \\\n",
    "#                and token.text not in stop_words \\              \n",
    "#                and token.is_alpha \\\n",
    "               and len(token.lemma_) > min_token_len\n",
    "               ]\n",
    "    \n",
    "    return ' '.join(res)"
   ]
  },
  {
   "cell_type": "code",
   "execution_count": 13,
   "metadata": {},
   "outputs": [],
   "source": [
    "def get_dct_dtmatrix(sops):\n",
    "    corpus = [sop.split() for sop in map(preprocess, sops)]\n",
    "#     phrases = Phrases(corpus, min_count = 1, threshold = 1)\n",
    "#     bigram = Phraser(phrases)\n",
    "#     corpus = bigram(corpus)\n",
    "    dictionary = corpora.Dictionary(corpus)\n",
    "    doc_term_matrix = [dictionary.doc2bow(doc) for doc in corpus]\n",
    "    return doc_term_matrix, corpus, dictionary"
   ]
  },
  {
   "cell_type": "code",
   "execution_count": 14,
   "metadata": {},
   "outputs": [],
   "source": [
    "doc_term_bow, corpus, dictionary = get_dct_dtmatrix(calltaker_all['sop'])"
   ]
  },
  {
   "cell_type": "markdown",
   "metadata": {},
   "source": [
    "### wait here"
   ]
  },
  {
   "cell_type": "code",
   "execution_count": 15,
   "metadata": {},
   "outputs": [],
   "source": [
    "def bow2tfidf(doc_term_bow, corpus_tfidf):\n",
    "    doc_term_tfidf = corpus_tfidf[doc_term_bow]\n",
    "    scipy_tfidf = corpus2csc(doc_term_tfidf, num_terms = len(corpus_tfidf.idfs))\n",
    "    tfidf_mtx = csc_matrix(scipy_tfidf).T.toarray()\n",
    "    print(f'The dimensions of tfidf matrix = {tfidf_mtx.shape}')\n",
    "    return tfidf_mtx"
   ]
  },
  {
   "cell_type": "code",
   "execution_count": 16,
   "metadata": {},
   "outputs": [
    {
     "name": "stdout",
     "output_type": "stream",
     "text": [
      "The dimensions of tfidf matrix = (1468, 1954)\n"
     ]
    }
   ],
   "source": [
    "tfidf_type = TfidfModel(doc_term_bow)\n",
    "tfidf_mtx = bow2tfidf(doc_term_bow, tfidf_type)"
   ]
  },
  {
   "cell_type": "code",
   "execution_count": 17,
   "metadata": {},
   "outputs": [],
   "source": [
    "def save_df(df, name, prefix = '../data/interim/'):\n",
    "    filename = prefix + name\n",
    "    df.to_csv(filename, index = False)"
   ]
  },
  {
   "cell_type": "code",
   "execution_count": 18,
   "metadata": {},
   "outputs": [],
   "source": [
    "save_df(calltaker_all, 'calltaker_all.csv')"
   ]
  },
  {
   "cell_type": "markdown",
   "metadata": {},
   "source": [
    "### Finding the best `n_clusters` for KMeans\n",
    "> use code below to fit multiple models with different `n_clusters`:\n",
    "```python\n",
    "kms = list()\n",
    "for k in range(1, 400):\n",
    "    km = KMeans(n_clusters = k).fit(tfidf_mtx)\n",
    "    kms.append(km)\n",
    "```\n",
    "  \n",
    "> use code below to find the elbow of inertias:\n",
    "```python\n",
    "fig, ax = plt.subplots(1, 1, figsize = (12, 4))\n",
    "ax.plot(range(1, 200), \n",
    "        [km.inertia_ for km in kms[:199]])\n",
    "ax.set_xlabel('k')\n",
    "ax.set_ylabel('inertia')\n",
    "ax.set_title(f'Inertia vs Number of Clusters')\n",
    "ax.xaxis.set_major_locator(MaxNLocator(integer = True))\n",
    "ax.grid()\n",
    "plt.axvline(x = 102, c = 'red', lw = 1)\n",
    "plt.show()\n",
    "```\n",
    "![](img/type_inertias.PNG)\n",
    "\n",
    "> use code below to find the shoulder of Silhouette scores\n",
    "```python\n",
    "fig, ax = plt.subplots(1, 1, figsize = (12, 4))\n",
    "ax.plot(range(2, 200), \n",
    "        [silhouette_score(tfidf_mtx, kms[k-1].labels_) for k in range(2, 200)])\n",
    "ax.set_xlabel('k')\n",
    "ax.set_ylabel('silhouette_score')\n",
    "ax.set_title(f'Silhouette Score vs Number of Clusters')\n",
    "ax.xaxis.set_major_locator(MaxNLocator(integer = True))\n",
    "ax.grid()\n",
    "plt.axvline(x = 102, c = 'red', lw = 1)\n",
    "plt.show()\n",
    "```\n",
    "![](img/type_silhouettes.PNG)\n",
    "\n",
    "#### Based on the plots of inertias and Silhouette scores, we choose k = 102 for cross-type clustering"
   ]
  },
  {
   "cell_type": "code",
   "execution_count": 19,
   "metadata": {},
   "outputs": [],
   "source": [
    "# kms = list()\n",
    "# for k in range(1, 400):\n",
    "#     km = KMeans(n_clusters = k).fit(tfidf_mtx)\n",
    "#     kms.append(km)"
   ]
  },
  {
   "cell_type": "code",
   "execution_count": 20,
   "metadata": {},
   "outputs": [],
   "source": [
    "km_alltype = KMeans(n_clusters = 102).fit(tfidf_mtx)"
   ]
  },
  {
   "cell_type": "code",
   "execution_count": 21,
   "metadata": {
    "scrolled": true
   },
   "outputs": [],
   "source": [
    "type_topics_kmeans_tfidf = calltaker_all.copy()\n",
    "type_topics_kmeans_tfidf['cluster'] = km_alltype.labels_\n",
    "type_topics_kmeans_tfidf = type_topics_kmeans_tfidf.sort_values(by = ['cluster', 'type', 'juri'], ignore_index = True)"
   ]
  },
  {
   "cell_type": "code",
   "execution_count": 22,
   "metadata": {},
   "outputs": [
    {
     "data": {
      "text/html": [
       "<div>\n",
       "<style scoped>\n",
       "    .dataframe tbody tr th:only-of-type {\n",
       "        vertical-align: middle;\n",
       "    }\n",
       "\n",
       "    .dataframe tbody tr th {\n",
       "        vertical-align: top;\n",
       "    }\n",
       "\n",
       "    .dataframe thead th {\n",
       "        text-align: right;\n",
       "    }\n",
       "</style>\n",
       "<table border=\"1\" class=\"dataframe\">\n",
       "  <thead>\n",
       "    <tr style=\"text-align: right;\">\n",
       "      <th></th>\n",
       "      <th>type</th>\n",
       "      <th>juri</th>\n",
       "      <th>role</th>\n",
       "      <th>sop</th>\n",
       "      <th>filename</th>\n",
       "      <th>cluster</th>\n",
       "    </tr>\n",
       "  </thead>\n",
       "  <tbody>\n",
       "    <tr>\n",
       "      <th>0</th>\n",
       "      <td>HOSTAG</td>\n",
       "      <td>AB</td>\n",
       "      <td>call taker</td>\n",
       "      <td>[Create a call, If speaking with the suspect:,...</td>\n",
       "      <td>AB - HOSTAG - Hostage Situation.docx</td>\n",
       "      <td>0</td>\n",
       "    </tr>\n",
       "    <tr>\n",
       "      <th>1</th>\n",
       "      <td>HOSTAG</td>\n",
       "      <td>BI</td>\n",
       "      <td>call taker</td>\n",
       "      <td>[Create a call, If speaking with the suspect:,...</td>\n",
       "      <td>BI - HOSTAG - Hostage Situation.docx</td>\n",
       "      <td>0</td>\n",
       "    </tr>\n",
       "    <tr>\n",
       "      <th>2</th>\n",
       "      <td>HOSTAG</td>\n",
       "      <td>BU</td>\n",
       "      <td>call taker</td>\n",
       "      <td>[Create a call, If speaking with the suspect:,...</td>\n",
       "      <td>BU - HOSTAG - Hostage Situation.docx</td>\n",
       "      <td>0</td>\n",
       "    </tr>\n",
       "    <tr>\n",
       "      <th>3</th>\n",
       "      <td>HOSTAG</td>\n",
       "      <td>DE</td>\n",
       "      <td>call taker</td>\n",
       "      <td>[Create a call, If speaking with the suspect:,...</td>\n",
       "      <td>DE - HOSTAG - Hostage Situation.docx</td>\n",
       "      <td>0</td>\n",
       "    </tr>\n",
       "    <tr>\n",
       "      <th>4</th>\n",
       "      <td>HOSTAG</td>\n",
       "      <td>NW</td>\n",
       "      <td>call taker</td>\n",
       "      <td>[Create a call, If speaking with the suspect:,...</td>\n",
       "      <td>NW - HOSTAG - Hostage Situation.docx</td>\n",
       "      <td>0</td>\n",
       "    </tr>\n",
       "    <tr>\n",
       "      <th>...</th>\n",
       "      <td>...</td>\n",
       "      <td>...</td>\n",
       "      <td>...</td>\n",
       "      <td>...</td>\n",
       "      <td>...</td>\n",
       "      <td>...</td>\n",
       "    </tr>\n",
       "    <tr>\n",
       "      <th>1463</th>\n",
       "      <td>ABANDV</td>\n",
       "      <td>SX</td>\n",
       "      <td>call taker</td>\n",
       "      <td>[Query the plate (if supplied) on cpic and con...</td>\n",
       "      <td>SX - ABANDV - Abandoned vehicle.docx</td>\n",
       "      <td>101</td>\n",
       "    </tr>\n",
       "    <tr>\n",
       "      <th>1464</th>\n",
       "      <td>ABANDV</td>\n",
       "      <td>UN</td>\n",
       "      <td>call taker</td>\n",
       "      <td>[Query the plate (if supplied) on CPIC and con...</td>\n",
       "      <td>UN - ABANDV - Abandoned vehicle.docx</td>\n",
       "      <td>101</td>\n",
       "    </tr>\n",
       "    <tr>\n",
       "      <th>1465</th>\n",
       "      <td>ABANDV</td>\n",
       "      <td>VA</td>\n",
       "      <td>call taker</td>\n",
       "      <td>[Query the plate (if supplied) on CPIC and con...</td>\n",
       "      <td>VA - ABANDV - Abandoned vehicle.docx</td>\n",
       "      <td>101</td>\n",
       "    </tr>\n",
       "    <tr>\n",
       "      <th>1466</th>\n",
       "      <td>ABANDV</td>\n",
       "      <td>WP</td>\n",
       "      <td>call taker</td>\n",
       "      <td>[Pemberton, Query the plate (if supplied) on C...</td>\n",
       "      <td>WP - ABANDV - Abandoned vehicle.docx</td>\n",
       "      <td>101</td>\n",
       "    </tr>\n",
       "    <tr>\n",
       "      <th>1467</th>\n",
       "      <td>ABANDV</td>\n",
       "      <td>WV</td>\n",
       "      <td>call taker</td>\n",
       "      <td>[0800 – 2000 hours, Query the plate (if suppli...</td>\n",
       "      <td>WV - ABANDV - Abandoned vehicle.docx</td>\n",
       "      <td>101</td>\n",
       "    </tr>\n",
       "  </tbody>\n",
       "</table>\n",
       "<p>1468 rows × 6 columns</p>\n",
       "</div>"
      ],
      "text/plain": [
       "        type juri        role  \\\n",
       "0     HOSTAG   AB  call taker   \n",
       "1     HOSTAG   BI  call taker   \n",
       "2     HOSTAG   BU  call taker   \n",
       "3     HOSTAG   DE  call taker   \n",
       "4     HOSTAG   NW  call taker   \n",
       "...      ...  ...         ...   \n",
       "1463  ABANDV   SX  call taker   \n",
       "1464  ABANDV   UN  call taker   \n",
       "1465  ABANDV   VA  call taker   \n",
       "1466  ABANDV   WP  call taker   \n",
       "1467  ABANDV   WV  call taker   \n",
       "\n",
       "                                                    sop  \\\n",
       "0     [Create a call, If speaking with the suspect:,...   \n",
       "1     [Create a call, If speaking with the suspect:,...   \n",
       "2     [Create a call, If speaking with the suspect:,...   \n",
       "3     [Create a call, If speaking with the suspect:,...   \n",
       "4     [Create a call, If speaking with the suspect:,...   \n",
       "...                                                 ...   \n",
       "1463  [Query the plate (if supplied) on cpic and con...   \n",
       "1464  [Query the plate (if supplied) on CPIC and con...   \n",
       "1465  [Query the plate (if supplied) on CPIC and con...   \n",
       "1466  [Pemberton, Query the plate (if supplied) on C...   \n",
       "1467  [0800 – 2000 hours, Query the plate (if suppli...   \n",
       "\n",
       "                                  filename  cluster  \n",
       "0     AB - HOSTAG - Hostage Situation.docx        0  \n",
       "1     BI - HOSTAG - Hostage Situation.docx        0  \n",
       "2     BU - HOSTAG - Hostage Situation.docx        0  \n",
       "3     DE - HOSTAG - Hostage Situation.docx        0  \n",
       "4     NW - HOSTAG - Hostage Situation.docx        0  \n",
       "...                                    ...      ...  \n",
       "1463  SX - ABANDV - Abandoned vehicle.docx      101  \n",
       "1464  UN - ABANDV - Abandoned vehicle.docx      101  \n",
       "1465  VA - ABANDV - Abandoned vehicle.docx      101  \n",
       "1466  WP - ABANDV - Abandoned vehicle.docx      101  \n",
       "1467  WV - ABANDV - Abandoned vehicle.docx      101  \n",
       "\n",
       "[1468 rows x 6 columns]"
      ]
     },
     "execution_count": 22,
     "metadata": {},
     "output_type": "execute_result"
    }
   ],
   "source": [
    "type_topics_kmeans_tfidf#[situ_topics_kmeans_tfidf['cluster'] == 91]['situation'].tolist()"
   ]
  },
  {
   "cell_type": "code",
   "execution_count": 23,
   "metadata": {},
   "outputs": [],
   "source": [
    "type_topics_kmeans_tfidf.to_csv('../data/interim/type_topics_kmeans_tfidf.csv', index = False)"
   ]
  },
  {
   "cell_type": "code",
   "execution_count": 24,
   "metadata": {},
   "outputs": [],
   "source": [
    "# situ_clusters = situ_topics_kmeans_tfidf.groupby('cluster').agg({\n",
    "#     'situation': lambda x: list(x)\n",
    "# })\n",
    "# situ_clusters"
   ]
  },
  {
   "cell_type": "code",
   "execution_count": 25,
   "metadata": {},
   "outputs": [],
   "source": [
    "cluster_bow, cluster_corpus, cluster_dict = get_dct_dtmatrix(type_topics_kmeans_tfidf['sop'])"
   ]
  },
  {
   "cell_type": "code",
   "execution_count": 26,
   "metadata": {},
   "outputs": [
    {
     "data": {
      "text/plain": [
       "1954"
      ]
     },
     "execution_count": 26,
     "metadata": {},
     "output_type": "execute_result"
    }
   ],
   "source": [
    "len(cluster_dict.token2id)"
   ]
  },
  {
   "cell_type": "code",
   "execution_count": 27,
   "metadata": {},
   "outputs": [
    {
     "data": {
      "text/plain": [
       "1468"
      ]
     },
     "execution_count": 27,
     "metadata": {},
     "output_type": "execute_result"
    }
   ],
   "source": [
    "len(cluster_bow)"
   ]
  },
  {
   "cell_type": "code",
   "execution_count": 28,
   "metadata": {},
   "outputs": [
    {
     "name": "stdout",
     "output_type": "stream",
     "text": [
      "The dimensions of tfidf matrix = (1468, 1954)\n"
     ]
    }
   ],
   "source": [
    "tfidf_cluster = TfidfModel(cluster_bow)\n",
    "tfidf_mtx_cluster = bow2tfidf(cluster_bow, tfidf_cluster)"
   ]
  },
  {
   "cell_type": "code",
   "execution_count": 29,
   "metadata": {},
   "outputs": [],
   "source": [
    "def show_result(query_mtx, corpus_mtx, N = 20):\n",
    "    sim = cosine_similarity(query_mtx, corpus_mtx)[0]\n",
    "    cluster_sorted = zip(sim.argsort()[::-1], sorted(sim)[::-1])\n",
    "    idx = list()\n",
    "    for cnt, (i, prob) in enumerate(cluster_sorted):\n",
    "        if prob < 0.02 or cnt >= N:\n",
    "            break\n",
    "        idx.append(i)\n",
    "    return type_topics_kmeans_tfidf.iloc[idx].copy()"
   ]
  },
  {
   "cell_type": "code",
   "execution_count": 30,
   "metadata": {},
   "outputs": [],
   "source": [
    "def query_situation(query, corpus_tfidf, corpus_dct, corpus_mtx, N = 20):\n",
    "    query_corpus = [preprocess([query]).split()]\n",
    "    query_bow = [corpus_dct.doc2bow(doc) for doc in query_corpus]\n",
    "    query_tfidf_mtx = bow2tfidf(query_bow, corpus_tfidf)\n",
    "    return show_result(query_tfidf_mtx, corpus_mtx, N = N)"
   ]
  },
  {
   "cell_type": "code",
   "execution_count": 31,
   "metadata": {},
   "outputs": [],
   "source": [
    "# doc_term_bow, corpus, dictionary = get_dct_dtmatrix(calltaker_all['sop'])\n",
    "# tfidf_type = TfidfModel(doc_term_bow)\n",
    "# tfidf_mtx = bow2tfidf(doc_term_bow, tfidf_type)"
   ]
  },
  {
   "cell_type": "code",
   "execution_count": 32,
   "metadata": {},
   "outputs": [
    {
     "name": "stdout",
     "output_type": "stream",
     "text": [
      "The dimensions of tfidf matrix = (1, 1954)\n"
     ]
    },
    {
     "data": {
      "text/html": [
       "<div>\n",
       "<style scoped>\n",
       "    .dataframe tbody tr th:only-of-type {\n",
       "        vertical-align: middle;\n",
       "    }\n",
       "\n",
       "    .dataframe tbody tr th {\n",
       "        vertical-align: top;\n",
       "    }\n",
       "\n",
       "    .dataframe thead th {\n",
       "        text-align: right;\n",
       "    }\n",
       "</style>\n",
       "<table border=\"1\" class=\"dataframe\">\n",
       "  <thead>\n",
       "    <tr style=\"text-align: right;\">\n",
       "      <th></th>\n",
       "      <th>type</th>\n",
       "      <th>juri</th>\n",
       "      <th>role</th>\n",
       "      <th>sop</th>\n",
       "      <th>filename</th>\n",
       "      <th>cluster</th>\n",
       "    </tr>\n",
       "  </thead>\n",
       "  <tbody>\n",
       "    <tr>\n",
       "      <th>1131</th>\n",
       "      <td>PROP</td>\n",
       "      <td>AB</td>\n",
       "      <td>call taker</td>\n",
       "      <td>[Located international passport, Caller wants ...</td>\n",
       "      <td>AB - PROP - Property lost, found or seized.docx</td>\n",
       "      <td>74</td>\n",
       "    </tr>\n",
       "    <tr>\n",
       "      <th>1133</th>\n",
       "      <td>PROP</td>\n",
       "      <td>BU</td>\n",
       "      <td>call taker</td>\n",
       "      <td>[Located international passport, Caller wants ...</td>\n",
       "      <td>BU - PROP - Property lost, found or seized.docx</td>\n",
       "      <td>74</td>\n",
       "    </tr>\n",
       "    <tr>\n",
       "      <th>1140</th>\n",
       "      <td>PROP</td>\n",
       "      <td>SQ</td>\n",
       "      <td>call taker</td>\n",
       "      <td>[Located international passport, Caller wants ...</td>\n",
       "      <td>SQ- PROP - Property lost, found or seized.docx</td>\n",
       "      <td>74</td>\n",
       "    </tr>\n",
       "    <tr>\n",
       "      <th>1132</th>\n",
       "      <td>PROP</td>\n",
       "      <td>BI</td>\n",
       "      <td>call taker</td>\n",
       "      <td>[Located international passport, Caller wants ...</td>\n",
       "      <td>BI - PROP - Property lost, found or seized.docx</td>\n",
       "      <td>74</td>\n",
       "    </tr>\n",
       "    <tr>\n",
       "      <th>1139</th>\n",
       "      <td>PROP</td>\n",
       "      <td>SC</td>\n",
       "      <td>call taker</td>\n",
       "      <td>[Located international passport, Caller wants ...</td>\n",
       "      <td>SC - PROP - Property lost, found or seized.docx</td>\n",
       "      <td>74</td>\n",
       "    </tr>\n",
       "    <tr>\n",
       "      <th>1142</th>\n",
       "      <td>PROP</td>\n",
       "      <td>UN</td>\n",
       "      <td>call taker</td>\n",
       "      <td>[Located international passport, Caller wants ...</td>\n",
       "      <td>UN - PROP - Property lost, found or seized.docx</td>\n",
       "      <td>74</td>\n",
       "    </tr>\n",
       "    <tr>\n",
       "      <th>1141</th>\n",
       "      <td>PROP</td>\n",
       "      <td>SX</td>\n",
       "      <td>call taker</td>\n",
       "      <td>[Located international passport, Caller wants ...</td>\n",
       "      <td>SX - PROP - Property lost, found or seized.docx</td>\n",
       "      <td>74</td>\n",
       "    </tr>\n",
       "    <tr>\n",
       "      <th>1144</th>\n",
       "      <td>PROP</td>\n",
       "      <td>WP</td>\n",
       "      <td>call taker</td>\n",
       "      <td>[Located international passport, Caller wants ...</td>\n",
       "      <td>WP - PROP - Property lost, found or seized.docx</td>\n",
       "      <td>74</td>\n",
       "    </tr>\n",
       "    <tr>\n",
       "      <th>1135</th>\n",
       "      <td>PROP</td>\n",
       "      <td>NW</td>\n",
       "      <td>call taker</td>\n",
       "      <td>[Located international passport, Caller wants ...</td>\n",
       "      <td>NW - PROP - Property lost, found or seized.docx</td>\n",
       "      <td>74</td>\n",
       "    </tr>\n",
       "    <tr>\n",
       "      <th>1134</th>\n",
       "      <td>PROP</td>\n",
       "      <td>DE</td>\n",
       "      <td>call taker</td>\n",
       "      <td>[Located international passport, Caller wants ...</td>\n",
       "      <td>DE - PROP - Property lost, found or seized.docx</td>\n",
       "      <td>74</td>\n",
       "    </tr>\n",
       "    <tr>\n",
       "      <th>1138</th>\n",
       "      <td>PROP</td>\n",
       "      <td>RM</td>\n",
       "      <td>call taker</td>\n",
       "      <td>[Located international passport, Caller wants ...</td>\n",
       "      <td>RM - PROP - Property lost, found or seized.docx</td>\n",
       "      <td>74</td>\n",
       "    </tr>\n",
       "    <tr>\n",
       "      <th>1145</th>\n",
       "      <td>PROP</td>\n",
       "      <td>WV</td>\n",
       "      <td>call taker</td>\n",
       "      <td>[Located international passport, Caller wants ...</td>\n",
       "      <td>WV - PROP - Property lost, found or seized.docx</td>\n",
       "      <td>74</td>\n",
       "    </tr>\n",
       "    <tr>\n",
       "      <th>76</th>\n",
       "      <td>MISSIP</td>\n",
       "      <td>AB</td>\n",
       "      <td>call taker</td>\n",
       "      <td>[Questions, Is the missing person 12 years old...</td>\n",
       "      <td>AB - MISSIP - Missing person.docx</td>\n",
       "      <td>4</td>\n",
       "    </tr>\n",
       "    <tr>\n",
       "      <th>90</th>\n",
       "      <td>MISSIP</td>\n",
       "      <td>WV</td>\n",
       "      <td>call taker</td>\n",
       "      <td>[Questions, Is the missing person 12 years old...</td>\n",
       "      <td>WV - MISSIP - Missing person.docx</td>\n",
       "      <td>4</td>\n",
       "    </tr>\n",
       "    <tr>\n",
       "      <th>79</th>\n",
       "      <td>MISSIP</td>\n",
       "      <td>DE</td>\n",
       "      <td>call taker</td>\n",
       "      <td>[Questions, Is the missing person 12 years old...</td>\n",
       "      <td>DE - MISSIP - Missing person.docx</td>\n",
       "      <td>4</td>\n",
       "    </tr>\n",
       "    <tr>\n",
       "      <th>1143</th>\n",
       "      <td>PROP</td>\n",
       "      <td>VA</td>\n",
       "      <td>call taker</td>\n",
       "      <td>[Located international passport, Caller wants ...</td>\n",
       "      <td>VA - PROP - Property lost, found or seized.docx</td>\n",
       "      <td>74</td>\n",
       "    </tr>\n",
       "    <tr>\n",
       "      <th>1260</th>\n",
       "      <td>ASSPFA</td>\n",
       "      <td>SQ</td>\n",
       "      <td>call taker</td>\n",
       "      <td>[Police Victim Notification K-File, Requests f...</td>\n",
       "      <td>SQ - ASSPFA - Assist Police Fire Ambulance.docx</td>\n",
       "      <td>82</td>\n",
       "    </tr>\n",
       "    <tr>\n",
       "      <th>1252</th>\n",
       "      <td>ASSPFA</td>\n",
       "      <td>BI</td>\n",
       "      <td>call taker</td>\n",
       "      <td>[Police Victim notification K-File, Requests f...</td>\n",
       "      <td>BI - ASSPFA - Assist Police Fire Ambulance.docx</td>\n",
       "      <td>82</td>\n",
       "    </tr>\n",
       "    <tr>\n",
       "      <th>1136</th>\n",
       "      <td>PROP</td>\n",
       "      <td>PO</td>\n",
       "      <td>call taker</td>\n",
       "      <td>[Lost firearm or dangerous item, Create a call...</td>\n",
       "      <td>PO - PROP - Property lost, found or seized.docx</td>\n",
       "      <td>74</td>\n",
       "    </tr>\n",
       "    <tr>\n",
       "      <th>1262</th>\n",
       "      <td>ASSPFA</td>\n",
       "      <td>UN</td>\n",
       "      <td>call taker</td>\n",
       "      <td>[Police Victim Notification K-File, Requests f...</td>\n",
       "      <td>UN - ASSPFA - Assist Police Fire Ambulance.docx</td>\n",
       "      <td>82</td>\n",
       "    </tr>\n",
       "  </tbody>\n",
       "</table>\n",
       "</div>"
      ],
      "text/plain": [
       "        type juri        role  \\\n",
       "1131    PROP   AB  call taker   \n",
       "1133    PROP   BU  call taker   \n",
       "1140    PROP   SQ  call taker   \n",
       "1132    PROP   BI  call taker   \n",
       "1139    PROP   SC  call taker   \n",
       "1142    PROP   UN  call taker   \n",
       "1141    PROP   SX  call taker   \n",
       "1144    PROP   WP  call taker   \n",
       "1135    PROP   NW  call taker   \n",
       "1134    PROP   DE  call taker   \n",
       "1138    PROP   RM  call taker   \n",
       "1145    PROP   WV  call taker   \n",
       "76    MISSIP   AB  call taker   \n",
       "90    MISSIP   WV  call taker   \n",
       "79    MISSIP   DE  call taker   \n",
       "1143    PROP   VA  call taker   \n",
       "1260  ASSPFA   SQ  call taker   \n",
       "1252  ASSPFA   BI  call taker   \n",
       "1136    PROP   PO  call taker   \n",
       "1262  ASSPFA   UN  call taker   \n",
       "\n",
       "                                                    sop  \\\n",
       "1131  [Located international passport, Caller wants ...   \n",
       "1133  [Located international passport, Caller wants ...   \n",
       "1140  [Located international passport, Caller wants ...   \n",
       "1132  [Located international passport, Caller wants ...   \n",
       "1139  [Located international passport, Caller wants ...   \n",
       "1142  [Located international passport, Caller wants ...   \n",
       "1141  [Located international passport, Caller wants ...   \n",
       "1144  [Located international passport, Caller wants ...   \n",
       "1135  [Located international passport, Caller wants ...   \n",
       "1134  [Located international passport, Caller wants ...   \n",
       "1138  [Located international passport, Caller wants ...   \n",
       "1145  [Located international passport, Caller wants ...   \n",
       "76    [Questions, Is the missing person 12 years old...   \n",
       "90    [Questions, Is the missing person 12 years old...   \n",
       "79    [Questions, Is the missing person 12 years old...   \n",
       "1143  [Located international passport, Caller wants ...   \n",
       "1260  [Police Victim Notification K-File, Requests f...   \n",
       "1252  [Police Victim notification K-File, Requests f...   \n",
       "1136  [Lost firearm or dangerous item, Create a call...   \n",
       "1262  [Police Victim Notification K-File, Requests f...   \n",
       "\n",
       "                                             filename  cluster  \n",
       "1131  AB - PROP - Property lost, found or seized.docx       74  \n",
       "1133  BU - PROP - Property lost, found or seized.docx       74  \n",
       "1140   SQ- PROP - Property lost, found or seized.docx       74  \n",
       "1132  BI - PROP - Property lost, found or seized.docx       74  \n",
       "1139  SC - PROP - Property lost, found or seized.docx       74  \n",
       "1142  UN - PROP - Property lost, found or seized.docx       74  \n",
       "1141  SX - PROP - Property lost, found or seized.docx       74  \n",
       "1144  WP - PROP - Property lost, found or seized.docx       74  \n",
       "1135  NW - PROP - Property lost, found or seized.docx       74  \n",
       "1134  DE - PROP - Property lost, found or seized.docx       74  \n",
       "1138  RM - PROP - Property lost, found or seized.docx       74  \n",
       "1145  WV - PROP - Property lost, found or seized.docx       74  \n",
       "76                  AB - MISSIP - Missing person.docx        4  \n",
       "90                  WV - MISSIP - Missing person.docx        4  \n",
       "79                  DE - MISSIP - Missing person.docx        4  \n",
       "1143  VA - PROP - Property lost, found or seized.docx       74  \n",
       "1260  SQ - ASSPFA - Assist Police Fire Ambulance.docx       82  \n",
       "1252  BI - ASSPFA - Assist Police Fire Ambulance.docx       82  \n",
       "1136  PO - PROP - Property lost, found or seized.docx       74  \n",
       "1262  UN - ASSPFA - Assist Police Fire Ambulance.docx       82  "
      ]
     },
     "execution_count": 32,
     "metadata": {},
     "output_type": "execute_result"
    }
   ],
   "source": [
    "query = 'missing passport'\n",
    "query1 = 'lost passport'\n",
    "query_result = query_situation(query, tfidf_cluster, cluster_dict, tfidf_mtx_cluster)\n",
    "query_result"
   ]
  },
  {
   "cell_type": "code",
   "execution_count": 33,
   "metadata": {},
   "outputs": [],
   "source": [
    "# query = 'lost license plate'\n",
    "# query_corpus = [preprocess([query]).split()]\n",
    "# query_bow = [cluster_dict.doc2bow(doc) for doc in query_corpus]\n",
    "# query_tfidf_mtx = bow2tfidf(query_bow, tfidf_cluster)\n",
    "# sim = cosine_similarity(query_tfidf_mtx, tfidf_mtx_cluster)[0]\n",
    "# cluster_sorted = zip(sim.argsort()[::-1], sorted(sim)[::-1])\n",
    "# idx = list()\n",
    "# for cnt, (i, prob) in enumerate(cluster_sorted):\n",
    "#     if prob < 0.05 or cnt > 10:\n",
    "#         break\n",
    "#     idx.append(i)\n",
    "# idx"
   ]
  },
  {
   "cell_type": "code",
   "execution_count": 34,
   "metadata": {},
   "outputs": [],
   "source": [
    "# situ_topics_kmeans_tfidf.iloc[idx]"
   ]
  },
  {
   "cell_type": "code",
   "execution_count": null,
   "metadata": {},
   "outputs": [],
   "source": []
  },
  {
   "cell_type": "code",
   "execution_count": null,
   "metadata": {},
   "outputs": [],
   "source": []
  },
  {
   "cell_type": "code",
   "execution_count": 35,
   "metadata": {},
   "outputs": [
    {
     "ename": "Exception",
     "evalue": "Stop here",
     "output_type": "error",
     "traceback": [
      "\u001b[1;31m---------------------------------------------------------------------------\u001b[0m",
      "\u001b[1;31mException\u001b[0m                                 Traceback (most recent call last)",
      "\u001b[1;32m<ipython-input-35-b0553b8dfe68>\u001b[0m in \u001b[0;36m<module>\u001b[1;34m\u001b[0m\n\u001b[1;32m----> 1\u001b[1;33m \u001b[1;32mraise\u001b[0m \u001b[0mException\u001b[0m\u001b[1;33m(\u001b[0m\u001b[1;34m'Stop here'\u001b[0m\u001b[1;33m)\u001b[0m\u001b[1;33m\u001b[0m\u001b[1;33m\u001b[0m\u001b[0m\n\u001b[0m",
      "\u001b[1;31mException\u001b[0m: Stop here"
     ]
    }
   ],
   "source": [
    "raise Exception('Stop here')"
   ]
  },
  {
   "cell_type": "code",
   "execution_count": null,
   "metadata": {},
   "outputs": [],
   "source": [
    "def func1(patn, lst):\n",
    "    reg = re.findall(patn, ' '.join(lst), re.IGNORECASE)\n",
    "    if reg:\n",
    "        return True\n",
    "    else:\n",
    "        return False\n",
    "    \n",
    "def find_srs_pattern(patn, pd_srs):\n",
    "    return list(map(lambda x: func1(patn, x), pd_srs))\n",
    "\n",
    "situ_lda_tfidf_topics[find_srs_pattern('domi', situ_lda_tfidf_topics['sop'])]"
   ]
  }
 ],
 "metadata": {
  "kernelspec": {
   "display_name": "Python 3",
   "language": "python",
   "name": "python3"
  },
  "language_info": {
   "codemirror_mode": {
    "name": "ipython",
    "version": 3
   },
   "file_extension": ".py",
   "mimetype": "text/x-python",
   "name": "python",
   "nbconvert_exporter": "python",
   "pygments_lexer": "ipython3",
   "version": "3.7.6"
  }
 },
 "nbformat": 4,
 "nbformat_minor": 4
}
