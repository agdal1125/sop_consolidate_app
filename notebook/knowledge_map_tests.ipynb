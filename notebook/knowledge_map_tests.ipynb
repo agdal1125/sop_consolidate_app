{
 "cells": [
  {
   "cell_type": "code",
   "execution_count": 1,
   "metadata": {},
   "outputs": [],
   "source": [
    "import sys, os\n",
    "sys.path.append(os.path.abspath(os.path.join('..')))"
   ]
  },
  {
   "cell_type": "code",
   "execution_count": 2,
   "metadata": {},
   "outputs": [],
   "source": [
    "os.environ['PATH'] += os.pathsep + 'C:/Program Files (x86)/Graphviz2.38.bin'"
   ]
  },
  {
   "cell_type": "code",
   "execution_count": 3,
   "metadata": {},
   "outputs": [],
   "source": [
    "from src.knowledge_map import sop_files_to_graph, doc_to_dict, file_to_html\n",
    "from pprint import pprint\n",
    "import pandas as pd"
   ]
  },
  {
   "cell_type": "code",
   "execution_count": 4,
   "metadata": {},
   "outputs": [],
   "source": [
    "type_clusters = pd.read_csv(\n",
    "    '../data/interim/type_topics_kmeans_tfidf.csv',\n",
    "    keep_default_na=False,\n",
    "    converters={'sop': eval, 'situ_lst': eval}\n",
    " )"
   ]
  },
  {
   "cell_type": "code",
   "execution_count": 5,
   "metadata": {},
   "outputs": [],
   "source": [
    "cluster_three = type_clusters[type_clusters['cluster'] == 3]"
   ]
  },
  {
   "cell_type": "code",
   "execution_count": 6,
   "metadata": {},
   "outputs": [
    {
     "data": {
      "text/html": [
       "<div>\n",
       "<style scoped>\n",
       "    .dataframe tbody tr th:only-of-type {\n",
       "        vertical-align: middle;\n",
       "    }\n",
       "\n",
       "    .dataframe tbody tr th {\n",
       "        vertical-align: top;\n",
       "    }\n",
       "\n",
       "    .dataframe thead th {\n",
       "        text-align: right;\n",
       "    }\n",
       "</style>\n",
       "<table border=\"1\" class=\"dataframe\">\n",
       "  <thead>\n",
       "    <tr style=\"text-align: right;\">\n",
       "      <th></th>\n",
       "      <th>type</th>\n",
       "      <th>juri</th>\n",
       "      <th>role</th>\n",
       "      <th>sop</th>\n",
       "      <th>filename</th>\n",
       "      <th>cluster</th>\n",
       "    </tr>\n",
       "  </thead>\n",
       "  <tbody>\n",
       "    <tr>\n",
       "      <th>45</th>\n",
       "      <td>ASLTI</td>\n",
       "      <td>AB</td>\n",
       "      <td>call taker</td>\n",
       "      <td>[Create a call, Questions:, Time delay, Any we...</td>\n",
       "      <td>AB - ASLTI - Assault in Progress.docx</td>\n",
       "      <td>3</td>\n",
       "    </tr>\n",
       "    <tr>\n",
       "      <th>46</th>\n",
       "      <td>ASLTI</td>\n",
       "      <td>BI</td>\n",
       "      <td>call taker</td>\n",
       "      <td>[Create a call, Questions:, Time delay, Any we...</td>\n",
       "      <td>BI - ASLTI - Assault in Progress.docx</td>\n",
       "      <td>3</td>\n",
       "    </tr>\n",
       "    <tr>\n",
       "      <th>47</th>\n",
       "      <td>ASLTI</td>\n",
       "      <td>BU</td>\n",
       "      <td>call taker</td>\n",
       "      <td>[Create a call, Questions:, Time delay, Any we...</td>\n",
       "      <td>BU - ASLTI - Assault in Progress.docx</td>\n",
       "      <td>3</td>\n",
       "    </tr>\n",
       "    <tr>\n",
       "      <th>48</th>\n",
       "      <td>ASLTI</td>\n",
       "      <td>DE</td>\n",
       "      <td>call taker</td>\n",
       "      <td>[Create a call, Questions:, Time delay, Any we...</td>\n",
       "      <td>DE - ASLTI - Assault in Progress.docx</td>\n",
       "      <td>3</td>\n",
       "    </tr>\n",
       "    <tr>\n",
       "      <th>49</th>\n",
       "      <td>ASLTI</td>\n",
       "      <td>NW</td>\n",
       "      <td>call taker</td>\n",
       "      <td>[Create a call, Questions:, Time delay, Any we...</td>\n",
       "      <td>NW - ASLTI - Assault in Progress.docx</td>\n",
       "      <td>3</td>\n",
       "    </tr>\n",
       "  </tbody>\n",
       "</table>\n",
       "</div>"
      ],
      "text/plain": [
       "     type juri        role                                                sop  \\\n",
       "45  ASLTI   AB  call taker  [Create a call, Questions:, Time delay, Any we...   \n",
       "46  ASLTI   BI  call taker  [Create a call, Questions:, Time delay, Any we...   \n",
       "47  ASLTI   BU  call taker  [Create a call, Questions:, Time delay, Any we...   \n",
       "48  ASLTI   DE  call taker  [Create a call, Questions:, Time delay, Any we...   \n",
       "49  ASLTI   NW  call taker  [Create a call, Questions:, Time delay, Any we...   \n",
       "\n",
       "                                 filename  cluster  \n",
       "45  AB - ASLTI - Assault in Progress.docx        3  \n",
       "46  BI - ASLTI - Assault in Progress.docx        3  \n",
       "47  BU - ASLTI - Assault in Progress.docx        3  \n",
       "48  DE - ASLTI - Assault in Progress.docx        3  \n",
       "49  NW - ASLTI - Assault in Progress.docx        3  "
      ]
     },
     "execution_count": 6,
     "metadata": {},
     "output_type": "execute_result"
    }
   ],
   "source": [
    "cluster_three.head(5)"
   ]
  },
  {
   "cell_type": "code",
   "execution_count": 7,
   "metadata": {},
   "outputs": [],
   "source": [
    "file_names = '../../SOPs/' + cluster_three['filename']"
   ]
  },
  {
   "cell_type": "code",
   "execution_count": 8,
   "metadata": {},
   "outputs": [
    {
     "name": "stderr",
     "output_type": "stream",
     "text": [
      "C:\\Users\\jho\\Documents\\capstone-2020\\src\\knowledge_map.py:74: GuessedAtParserWarning: No parser was explicitly specified, so I'm using the best available HTML parser for this system (\"lxml\"). This usually isn't a problem, but if you run this code on another system, or in a different virtual environment, it may use a different parser and behave differently.\n",
      "\n",
      "The code that caused this warning is on line 74 of the file C:\\Users\\jho\\Documents\\capstone-2020\\src\\knowledge_map.py. To get rid of this warning, pass the additional argument 'features=\"lxml\"' to the BeautifulSoup constructor.\n",
      "\n",
      "  return BeautifulSoup(document.value.encode('utf8'))\n"
     ]
    }
   ],
   "source": [
    "sop_files_to_graph(file_names)"
   ]
  },
  {
   "cell_type": "code",
   "execution_count": 9,
   "metadata": {},
   "outputs": [
    {
     "data": {
      "text/plain": [
       "45    ../../SOPs/AB - ASLTI - Assault in Progress.docx\n",
       "46    ../../SOPs/BI - ASLTI - Assault in Progress.docx\n",
       "47    ../../SOPs/BU - ASLTI - Assault in Progress.docx\n",
       "48    ../../SOPs/DE - ASLTI - Assault in Progress.docx\n",
       "49    ../../SOPs/NW - ASLTI - Assault in Progress.docx\n",
       "50    ../../SOPs/PO - ASLTI - Assault in Progress.docx\n",
       "51    ../../SOPs/RI - ASLTI - Assault in Progress.docx\n",
       "52    ../../SOPs/RM - ASLTI - Assault in Progress.docx\n",
       "53    ../../SOPs/SC - ASLTI - Assault in Progress.docx\n",
       "54    ../../SOPs/SQ - ASLTI - Assault in Progress.docx\n",
       "55    ../../SOPs/SX - ASLTI - Assault in Progress.docx\n",
       "56    ../../SOPs/UN - ASLTI - Assault in Progress.docx\n",
       "57    ../../SOPs/VA - ASLTI - Assault in Progress.docx\n",
       "58    ../../SOPs/WP - ASLTI - Assault in Progress.docx\n",
       "59    ../../SOPs/WV - ASLTI - Assault in Progress.docx\n",
       "60        ../../SOPs/AB - ASLTSX - Sexual assault.docx\n",
       "61        ../../SOPs/BI - ASLTSX - Sexual assault.docx\n",
       "62        ../../SOPs/BU - ASLTSX - Sexual assault.docx\n",
       "63        ../../SOPs/DE - ASLTSX - Sexual assault.docx\n",
       "64        ../../SOPs/NW - ASLTSX - Sexual assault.docx\n",
       "65        ../../SOPs/PO - ASLTSX - Sexual assault.docx\n",
       "66        ../../SOPs/RI - ASLTSX - Sexual assault.docx\n",
       "67        ../../SOPs/RM - ASLTSX - Sexual assault.docx\n",
       "68        ../../SOPs/SC - ASLTSX - Sexual assault.docx\n",
       "69        ../../SOPs/SQ - ASLTSX - Sexual assault.docx\n",
       "70        ../../SOPs/SX - ASLTSX - Sexual assault.docx\n",
       "71        ../../SOPs/UN - ASLTSX - Sexual assault.docx\n",
       "72        ../../SOPs/VA - ASLTSX - Sexual assault.docx\n",
       "73        ../../SOPs/WP - ASLTSX - Sexual assault.docx\n",
       "74        ../../SOPs/WV - ASLTSX - Sexual assault.docx\n",
       "Name: filename, dtype: object"
      ]
     },
     "execution_count": 9,
     "metadata": {},
     "output_type": "execute_result"
    }
   ],
   "source": [
    "file_names"
   ]
  },
  {
   "cell_type": "code",
   "execution_count": 10,
   "metadata": {},
   "outputs": [
    {
     "data": {
      "text/plain": [
       "({'Create a call': {},\n",
       "  'Questions:': {'Time delay': {},\n",
       "   'Any weapons involved?': {},\n",
       "   'Are you injured?': {}},\n",
       "  'Child Abuse': {'When there is immediate risk to a child’s safety and welfare, regardless of any delay in reporting or location of the suspect, protection of the child is paramount and response time is critical or': {},\n",
       "   'When there is suspected child abuse, bodily harm, underfed and signs of neglect. Neglect includes failing to provide a child with food, shelter, basic, health care, supervision, nurturing or protection from risks.': {'Create a call': {}}}},\n",
       " {'Create a call': ['../../SOPs/AB - ASLTI - Assault in Progress.docx'],\n",
       "  'Questions:': ['../../SOPs/AB - ASLTI - Assault in Progress.docx'],\n",
       "  'Time delay': ['../../SOPs/AB - ASLTI - Assault in Progress.docx'],\n",
       "  'Any weapons involved?': ['../../SOPs/AB - ASLTI - Assault in Progress.docx'],\n",
       "  'Are you injured?': ['../../SOPs/AB - ASLTI - Assault in Progress.docx'],\n",
       "  'When there is immediate risk to a child’s safety and welfare, regardless of any delay in reporting or location of the suspect, protection of the child is paramount and response time is critical or': ['../../SOPs/AB - ASLTI - Assault in Progress.docx'],\n",
       "  'When there is suspected child abuse, bodily harm, underfed and signs of neglect. Neglect includes failing to provide a child with food, shelter, basic, health care, supervision, nurturing or protection from risks.': ['../../SOPs/AB - ASLTI - Assault in Progress.docx']})"
      ]
     },
     "execution_count": 10,
     "metadata": {},
     "output_type": "execute_result"
    }
   ],
   "source": [
    "doc_to_dict('../../SOPs/AB - ASLTI - Assault in Progress.docx')"
   ]
  },
  {
   "cell_type": "code",
   "execution_count": 11,
   "metadata": {},
   "outputs": [
    {
     "name": "stdout",
     "output_type": "stream",
     "text": [
      "('<html>\\n'\n",
      " ' <body>\\n'\n",
      " '  <p>\\n'\n",
      " '   This is the SOP for the ASLTI – Assault in Progress event type. Assault '\n",
      " 'is any force that is applied by one person to another directly or '\n",
      " 'indirectly.\\n'\n",
      " '  </p>\\n'\n",
      " '  <h1>\\n'\n",
      " '   call taker\\n'\n",
      " '  </h1>\\n'\n",
      " '  <p>\\n'\n",
      " '   Create a call\\n'\n",
      " '  </p>\\n'\n",
      " '  <p>\\n'\n",
      " '   Questions:\\n'\n",
      " '  </p>\\n'\n",
      " '  <ul>\\n'\n",
      " '   <li>\\n'\n",
      " '    <ul>\\n'\n",
      " '     <li>\\n'\n",
      " '      <ul>\\n'\n",
      " '       <li>\\n'\n",
      " '        <ul>\\n'\n",
      " '         <li>\\n'\n",
      " '          <ul>\\n'\n",
      " '           <li>\\n'\n",
      " '            Time delay\\n'\n",
      " '           </li>\\n'\n",
      " '           <li>\\n'\n",
      " '            Any weapons involved?\\n'\n",
      " '           </li>\\n'\n",
      " '           <li>\\n'\n",
      " '            Are you injured?\\n'\n",
      " '           </li>\\n'\n",
      " '          </ul>\\n'\n",
      " '         </li>\\n'\n",
      " '        </ul>\\n'\n",
      " '       </li>\\n'\n",
      " '      </ul>\\n'\n",
      " '     </li>\\n'\n",
      " '    </ul>\\n'\n",
      " '   </li>\\n'\n",
      " '  </ul>\\n'\n",
      " '  <h2>\\n'\n",
      " '   Child Abuse\\n'\n",
      " '  </h2>\\n'\n",
      " '  <p>\\n'\n",
      " '   When there is immediate risk to a child’s safety and welfare, regardless '\n",
      " 'of any delay in reporting or location of the suspect, protection of the '\n",
      " 'child is paramount and response time is critical or\\n'\n",
      " '  </p>\\n'\n",
      " '  <p>\\n'\n",
      " '   When there is suspected child abuse, bodily harm, underfed and signs of '\n",
      " 'neglect. Neglect includes failing to provide a child with food, shelter, '\n",
      " 'basic, health care, supervision, nurturing or protection from risks.\\n'\n",
      " '  </p>\\n'\n",
      " '  <ul>\\n'\n",
      " '   <li>\\n'\n",
      " '    <ul>\\n'\n",
      " '     <li>\\n'\n",
      " '      <ul>\\n'\n",
      " '       <li>\\n'\n",
      " '        <ul>\\n'\n",
      " '         <li>\\n'\n",
      " '          Create a call\\n'\n",
      " '         </li>\\n'\n",
      " '        </ul>\\n'\n",
      " '       </li>\\n'\n",
      " '      </ul>\\n'\n",
      " '     </li>\\n'\n",
      " '    </ul>\\n'\n",
      " '   </li>\\n'\n",
      " '  </ul>\\n'\n",
      " '  <h1>\\n'\n",
      " '   Dispatcher\\n'\n",
      " '  </h1>\\n'\n",
      " '  <ul>\\n'\n",
      " '   <li>\\n'\n",
      " '    Assign a member\\n'\n",
      " '   </li>\\n'\n",
      " '   <li>\\n'\n",
      " '    Advise BCEHS if required\\n'\n",
      " '   </li>\\n'\n",
      " '  </ul>\\n'\n",
      " ' </body>\\n'\n",
      " '</html>')\n"
     ]
    }
   ],
   "source": [
    "pprint(file_to_html('../../SOPs/AB - ASLTI - Assault in Progress.docx').prettify())"
   ]
  },
  {
   "cell_type": "code",
   "execution_count": null,
   "metadata": {},
   "outputs": [],
   "source": []
  }
 ],
 "metadata": {
  "kernelspec": {
   "display_name": "Python 3",
   "language": "python",
   "name": "python3"
  },
  "language_info": {
   "codemirror_mode": {
    "name": "ipython",
    "version": 3
   },
   "file_extension": ".py",
   "mimetype": "text/x-python",
   "name": "python",
   "nbconvert_exporter": "python",
   "pygments_lexer": "ipython3",
   "version": "3.7.6"
  }
 },
 "nbformat": 4,
 "nbformat_minor": 4
}
