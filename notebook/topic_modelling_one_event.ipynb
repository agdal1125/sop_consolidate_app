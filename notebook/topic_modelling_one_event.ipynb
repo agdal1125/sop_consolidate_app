{
 "cells": [
  {
   "cell_type": "code",
   "execution_count": 1,
   "metadata": {},
   "outputs": [],
   "source": [
    "import os\n",
    "import json\n",
    "from docx import Document\n",
    "from io import StringIO, BytesIO\n",
    "import re\n",
    "\n",
    "import pandas as pd\n",
    "import json\n",
    "import spacy\n",
    "from nltk.corpus import stopwords\n",
    "\n",
    "from gensim.models import LdaModel\n",
    "from gensim.models.wrappers import LdaMallet\n",
    "import gensim.corpora as corpora\n",
    "from gensim.corpora import Dictionary\n",
    "from gensim import matutils, models\n",
    "from gensim.models import CoherenceModel\n",
    "import pyLDAvis.gensim\n",
    "\n",
    "from docx import Document\n",
    "from io import StringIO, BytesIO\n",
    "import matplotlib.pyplot as plt\n",
    "%matplotlib inline\n",
    "plt.rcParams.update({'font.size': 14, 'lines.linewidth': 3})"
   ]
  },
  {
   "cell_type": "code",
   "execution_count": 2,
   "metadata": {},
   "outputs": [],
   "source": [
    "notebook_dir = os.getcwd()"
   ]
  },
  {
   "cell_type": "code",
   "execution_count": 3,
   "metadata": {},
   "outputs": [
    {
     "data": {
      "text/plain": [
       "dict"
      ]
     },
     "execution_count": 3,
     "metadata": {},
     "output_type": "execute_result"
    }
   ],
   "source": [
    "event_type = 'ANIMAL'\n",
    "with open(F'../data/sop_jsons/{event_type}.txt') as f:\n",
    "    drugs = json.load(f)\n",
    "f.close()\n",
    "type(drugs)"
   ]
  },
  {
   "cell_type": "code",
   "execution_count": 4,
   "metadata": {
    "scrolled": false
   },
   "outputs": [
    {
     "data": {
      "text/html": [
       "<div>\n",
       "<style scoped>\n",
       "    .dataframe tbody tr th:only-of-type {\n",
       "        vertical-align: middle;\n",
       "    }\n",
       "\n",
       "    .dataframe tbody tr th {\n",
       "        vertical-align: top;\n",
       "    }\n",
       "\n",
       "    .dataframe thead th {\n",
       "        text-align: right;\n",
       "    }\n",
       "</style>\n",
       "<table border=\"1\" class=\"dataframe\">\n",
       "  <thead>\n",
       "    <tr style=\"text-align: right;\">\n",
       "      <th></th>\n",
       "      <th>juri</th>\n",
       "      <th>role</th>\n",
       "      <th>sop</th>\n",
       "    </tr>\n",
       "  </thead>\n",
       "  <tbody>\n",
       "    <tr>\n",
       "      <th>0</th>\n",
       "      <td>AB</td>\n",
       "      <td>call taker</td>\n",
       "      <td>[Animal bites – Just occurred or with a time d...</td>\n",
       "    </tr>\n",
       "    <tr>\n",
       "      <th>1</th>\n",
       "      <td>AB</td>\n",
       "      <td>info</td>\n",
       "      <td>[Dogs at large, Advise Animal Control, Wild an...</td>\n",
       "    </tr>\n",
       "    <tr>\n",
       "      <th>2</th>\n",
       "      <td>AB</td>\n",
       "      <td>dispatcher</td>\n",
       "      <td>[Dogs at large, Assign a member if dog being a...</td>\n",
       "    </tr>\n",
       "  </tbody>\n",
       "</table>\n",
       "</div>"
      ],
      "text/plain": [
       "  juri        role                                                sop\n",
       "0   AB  call taker  [Animal bites – Just occurred or with a time d...\n",
       "1   AB        info  [Dogs at large, Advise Animal Control, Wild an...\n",
       "2   AB  dispatcher  [Dogs at large, Assign a member if dog being a..."
      ]
     },
     "execution_count": 4,
     "metadata": {},
     "output_type": "execute_result"
    }
   ],
   "source": [
    "juris, roles, sops = list(), list(), list()\n",
    "for juri, dct in drugs.items():\n",
    "    for role, sop in dct.items():\n",
    "        juris.append(juri)\n",
    "        roles.append(role)\n",
    "        sops.append(sop)\n",
    "drugsdf = pd.DataFrame({'juri': juris, 'role': roles, 'sop': sops})\n",
    "drugsdf.head(3)"
   ]
  },
  {
   "cell_type": "code",
   "execution_count": 5,
   "metadata": {},
   "outputs": [],
   "source": [
    "drugs_calltaker = drugsdf[drugsdf['role'] == 'call taker']\n",
    "drugs_dispatcher = drugsdf[drugsdf['role'] == 'dispatcher']"
   ]
  },
  {
   "cell_type": "code",
   "execution_count": 6,
   "metadata": {},
   "outputs": [],
   "source": [
    "nlp = spacy.load(\"en_core_web_sm\")\n",
    "# stop_words = set(stopwords.words('english'))"
   ]
  },
  {
   "cell_type": "code",
   "execution_count": 7,
   "metadata": {
    "scrolled": true
   },
   "outputs": [
    {
     "data": {
      "text/plain": [
       "True"
      ]
     },
     "execution_count": 7,
     "metadata": {},
     "output_type": "execute_result"
    }
   ],
   "source": [
    "remove = [\n",
    "    \"subject:\",\n",
    "    \"writes:\",\n",
    "    \"wrote:\",\n",
    "    \"write:\"\n",
    "]\n",
    "def multiple_replace(text, unwanted = remove):\n",
    "    \"\"\"\n",
    "    Replace unwanted pattern with a space; return a string\n",
    "    \"\"\" \n",
    "    reg = re.compile(f\"({'|'.join(remove)})\")\n",
    "    return reg.sub(\" \", text)\n",
    "\"(%s)\" % \"|\".join(remove) == f\"({'|'.join(remove)})\""
   ]
  },
  {
   "cell_type": "code",
   "execution_count": 8,
   "metadata": {},
   "outputs": [],
   "source": [
    "def preprocess(strlist,\n",
    "               min_token_len = 2,\n",
    "               allowed_pos = ['ADV', 'ADJ', 'VERB', 'NOUN']): \n",
    "#     texts = ' '.join(strlist).lower()\n",
    "    res = list()\n",
    "    for string in strlist:\n",
    "        text = string.lower()\n",
    "        doc = nlp(text)\n",
    "        res += [token.lemma_ for token in doc \\\n",
    "               if token.is_alpha \\\n",
    "               # Spacy considers 'call' as a stop word, which is not suitable for our case\n",
    "               and not token.is_stop \\\n",
    "#                and token.text not in stop_words \\              \n",
    "               and token.pos_ in allowed_pos \\\n",
    "               and len(token.lemma_) > min_token_len]\n",
    "    \n",
    "    return ' '.join(res)"
   ]
  },
  {
   "cell_type": "code",
   "execution_count": 9,
   "metadata": {
    "scrolled": true
   },
   "outputs": [
    {
     "data": {
      "text/plain": [
       "(16, 3)"
      ]
     },
     "execution_count": 9,
     "metadata": {},
     "output_type": "execute_result"
    }
   ],
   "source": [
    "drugs_calltaker.shape"
   ]
  },
  {
   "cell_type": "code",
   "execution_count": 10,
   "metadata": {},
   "outputs": [
    {
     "data": {
      "text/plain": [
       "[['mama', 'mele', 'maso'], ['ema', 'ma', 'mama']]"
      ]
     },
     "execution_count": 10,
     "metadata": {},
     "output_type": "execute_result"
    }
   ],
   "source": [
    "['mama mele maso'.split(), 'ema ma mama'.split()]"
   ]
  },
  {
   "cell_type": "code",
   "execution_count": 11,
   "metadata": {},
   "outputs": [],
   "source": [
    "def get_dct_dtmatrix(sops):\n",
    "    corpus = [sop.split() for sop in map(preprocess, sops)]\n",
    "    dictionary = corpora.Dictionary(corpus)\n",
    "    doc_term_matrix = [dictionary.doc2bow(doc) for doc in corpus]\n",
    "    return doc_term_matrix, corpus, dictionary"
   ]
  },
  {
   "cell_type": "code",
   "execution_count": 12,
   "metadata": {},
   "outputs": [],
   "source": [
    "# drugs_calltaker['sop']"
   ]
  },
  {
   "cell_type": "code",
   "execution_count": 13,
   "metadata": {},
   "outputs": [],
   "source": [
    "doc_term_matrix, corpus, dictionary = get_dct_dtmatrix(drugs_calltaker['sop'])"
   ]
  },
  {
   "cell_type": "code",
   "execution_count": 14,
   "metadata": {
    "scrolled": true
   },
   "outputs": [
    {
     "data": {
      "text/plain": [
       "['animal',\n",
       " 'bite',\n",
       " 'occur',\n",
       " 'time',\n",
       " 'delay',\n",
       " 'refer',\n",
       " 'animal',\n",
       " 'control',\n",
       " 'require',\n",
       " 'animal',\n",
       " 'leave',\n",
       " 'vehicle',\n",
       " 'animal',\n",
       " 'imminent',\n",
       " 'distress',\n",
       " 'abbotsford',\n",
       " 'fire',\n",
       " 'instance',\n",
       " 'refer',\n",
       " 'animal',\n",
       " 'control',\n",
       " 'dog',\n",
       " 'large',\n",
       " 'run',\n",
       " 'large',\n",
       " 'attack',\n",
       " 'viciously',\n",
       " 'pursue',\n",
       " 'person',\n",
       " 'domestic',\n",
       " 'animal',\n",
       " 'livestock',\n",
       " 'create',\n",
       " 'case',\n",
       " 'refer',\n",
       " 'animal',\n",
       " 'control',\n",
       " 'barking',\n",
       " 'refer',\n",
       " 'animal',\n",
       " 'control',\n",
       " 'deceased',\n",
       " 'animal',\n",
       " 'small',\n",
       " 'animal',\n",
       " 'refer',\n",
       " 'animal',\n",
       " 'control',\n",
       " 'large',\n",
       " 'animal',\n",
       " 'municipal',\n",
       " 'property',\n",
       " 'refer',\n",
       " 'public',\n",
       " 'work',\n",
       " 'yard',\n",
       " 'highway',\n",
       " 'contact',\n",
       " 'neglect',\n",
       " 'injure',\n",
       " 'domestic',\n",
       " 'animal',\n",
       " 'refer',\n",
       " 'animal',\n",
       " 'control',\n",
       " 'injured',\n",
       " 'dog',\n",
       " 'cat',\n",
       " 'result',\n",
       " 'fire',\n",
       " 'refer',\n",
       " 'fire',\n",
       " 'animal',\n",
       " 'include',\n",
       " 'freeway',\n",
       " 'snake',\n",
       " 'create',\n",
       " 'immediate',\n",
       " 'danger',\n",
       " 'refer',\n",
       " 'animal',\n",
       " 'control',\n",
       " 'conservation',\n",
       " 'office',\n",
       " 'wild',\n",
       " 'animal',\n",
       " 'animal',\n",
       " 'exhibit',\n",
       " 'aggressive',\n",
       " 'behaviour',\n",
       " 'stalk',\n",
       " 'create',\n",
       " 'animal',\n",
       " 'remain',\n",
       " 'residential',\n",
       " 'urban',\n",
       " 'area',\n",
       " 'park',\n",
       " 'school',\n",
       " 'yard',\n",
       " 'recreational',\n",
       " 'area',\n",
       " 'exclude',\n",
       " 'rural',\n",
       " 'trail',\n",
       " 'likely',\n",
       " 'use',\n",
       " 'refer',\n",
       " 'conservation',\n",
       " 'sighting',\n",
       " 'refer',\n",
       " 'emergency',\n",
       " 'bear',\n",
       " 'sighting',\n",
       " 'wild',\n",
       " 'animal',\n",
       " 'injure',\n",
       " 'refer',\n",
       " 'conservation',\n",
       " 'stray',\n",
       " 'rabbit',\n",
       " 'refer',\n",
       " 'livestock',\n",
       " 'large',\n",
       " 'create',\n",
       " 'description',\n",
       " 'type',\n",
       " 'animal',\n",
       " 'animal',\n",
       " 'loose',\n",
       " 'animal',\n",
       " 'traffic',\n",
       " 'hazard',\n",
       " 'danger',\n",
       " 'public',\n",
       " 'owner',\n",
       " 'know',\n",
       " 'present',\n",
       " 'animal',\n",
       " 'contain',\n",
       " 'involve',\n",
       " 'livestock',\n",
       " 'create',\n",
       " 'remove',\n",
       " 'animal',\n",
       " 'trailer']"
      ]
     },
     "execution_count": 14,
     "metadata": {},
     "output_type": "execute_result"
    }
   ],
   "source": [
    "corpus[0]"
   ]
  },
  {
   "cell_type": "code",
   "execution_count": 15,
   "metadata": {},
   "outputs": [],
   "source": [
    "def topics_with_coherence(doc_term_matrix, corpus, dictionary, texts, \n",
    "                          N = 10, passes = 20, coherence = 'c_v', random_state = 2020):\n",
    "    num_topic, ldas, scores = list(), list(), list()\n",
    "#     doc_term_matrix = [dictionary.doc2bow(doc) for doc in corpus]\n",
    "    for n in range(1, N+1):\n",
    "        lda = models.LdaModel(corpus = doc_term_matrix, \n",
    "                              id2word = dictionary, \n",
    "                              num_topics = n, \n",
    "                              passes = passes, \n",
    "                              random_state = random_state)\n",
    "        coherence_model = CoherenceModel(\n",
    "            model = lda, \n",
    "            texts = corpus, \n",
    "            dictionary = dictionary, \n",
    "            coherence = coherence)\n",
    "        coherence_score = coherence_model.get_coherence()\n",
    "#         mod = {'num_topic': n, 'model': lda, 'coherence_score': coherence_score}\n",
    "#         res[f\"num_topic={n}\"] = [lda, coherence_score]\n",
    "        num_topic.append(n)\n",
    "        ldas.append(lda)\n",
    "        scores.append(coherence_score)\n",
    "    return pd.DataFrame({\n",
    "        'num_topic':num_topic,\n",
    "        'model': ldas,\n",
    "        'coherence_score': scores\n",
    "    })"
   ]
  },
  {
   "cell_type": "code",
   "execution_count": 16,
   "metadata": {
    "scrolled": false
   },
   "outputs": [
    {
     "data": {
      "text/html": [
       "<div>\n",
       "<style scoped>\n",
       "    .dataframe tbody tr th:only-of-type {\n",
       "        vertical-align: middle;\n",
       "    }\n",
       "\n",
       "    .dataframe tbody tr th {\n",
       "        vertical-align: top;\n",
       "    }\n",
       "\n",
       "    .dataframe thead th {\n",
       "        text-align: right;\n",
       "    }\n",
       "</style>\n",
       "<table border=\"1\" class=\"dataframe\">\n",
       "  <thead>\n",
       "    <tr style=\"text-align: right;\">\n",
       "      <th></th>\n",
       "      <th>num_topic</th>\n",
       "      <th>model</th>\n",
       "      <th>coherence_score</th>\n",
       "    </tr>\n",
       "  </thead>\n",
       "  <tbody>\n",
       "    <tr>\n",
       "      <th>0</th>\n",
       "      <td>1</td>\n",
       "      <td>LdaModel(num_terms=223, num_topics=1, decay=0....</td>\n",
       "      <td>0.436670</td>\n",
       "    </tr>\n",
       "    <tr>\n",
       "      <th>1</th>\n",
       "      <td>2</td>\n",
       "      <td>LdaModel(num_terms=223, num_topics=2, decay=0....</td>\n",
       "      <td>0.455481</td>\n",
       "    </tr>\n",
       "    <tr>\n",
       "      <th>2</th>\n",
       "      <td>3</td>\n",
       "      <td>LdaModel(num_terms=223, num_topics=3, decay=0....</td>\n",
       "      <td>0.430205</td>\n",
       "    </tr>\n",
       "    <tr>\n",
       "      <th>3</th>\n",
       "      <td>4</td>\n",
       "      <td>LdaModel(num_terms=223, num_topics=4, decay=0....</td>\n",
       "      <td>0.503871</td>\n",
       "    </tr>\n",
       "    <tr>\n",
       "      <th>4</th>\n",
       "      <td>5</td>\n",
       "      <td>LdaModel(num_terms=223, num_topics=5, decay=0....</td>\n",
       "      <td>0.388364</td>\n",
       "    </tr>\n",
       "    <tr>\n",
       "      <th>5</th>\n",
       "      <td>6</td>\n",
       "      <td>LdaModel(num_terms=223, num_topics=6, decay=0....</td>\n",
       "      <td>0.413251</td>\n",
       "    </tr>\n",
       "    <tr>\n",
       "      <th>6</th>\n",
       "      <td>7</td>\n",
       "      <td>LdaModel(num_terms=223, num_topics=7, decay=0....</td>\n",
       "      <td>0.465256</td>\n",
       "    </tr>\n",
       "    <tr>\n",
       "      <th>7</th>\n",
       "      <td>8</td>\n",
       "      <td>LdaModel(num_terms=223, num_topics=8, decay=0....</td>\n",
       "      <td>0.477478</td>\n",
       "    </tr>\n",
       "    <tr>\n",
       "      <th>8</th>\n",
       "      <td>9</td>\n",
       "      <td>LdaModel(num_terms=223, num_topics=9, decay=0....</td>\n",
       "      <td>0.470008</td>\n",
       "    </tr>\n",
       "    <tr>\n",
       "      <th>9</th>\n",
       "      <td>10</td>\n",
       "      <td>LdaModel(num_terms=223, num_topics=10, decay=0...</td>\n",
       "      <td>0.433362</td>\n",
       "    </tr>\n",
       "  </tbody>\n",
       "</table>\n",
       "</div>"
      ],
      "text/plain": [
       "   num_topic                                              model  \\\n",
       "0          1  LdaModel(num_terms=223, num_topics=1, decay=0....   \n",
       "1          2  LdaModel(num_terms=223, num_topics=2, decay=0....   \n",
       "2          3  LdaModel(num_terms=223, num_topics=3, decay=0....   \n",
       "3          4  LdaModel(num_terms=223, num_topics=4, decay=0....   \n",
       "4          5  LdaModel(num_terms=223, num_topics=5, decay=0....   \n",
       "5          6  LdaModel(num_terms=223, num_topics=6, decay=0....   \n",
       "6          7  LdaModel(num_terms=223, num_topics=7, decay=0....   \n",
       "7          8  LdaModel(num_terms=223, num_topics=8, decay=0....   \n",
       "8          9  LdaModel(num_terms=223, num_topics=9, decay=0....   \n",
       "9         10  LdaModel(num_terms=223, num_topics=10, decay=0...   \n",
       "\n",
       "   coherence_score  \n",
       "0         0.436670  \n",
       "1         0.455481  \n",
       "2         0.430205  \n",
       "3         0.503871  \n",
       "4         0.388364  \n",
       "5         0.413251  \n",
       "6         0.465256  \n",
       "7         0.477478  \n",
       "8         0.470008  \n",
       "9         0.433362  "
      ]
     },
     "execution_count": 16,
     "metadata": {},
     "output_type": "execute_result"
    }
   ],
   "source": [
    "drugs_call_coherence_cv = topics_with_coherence(doc_term_matrix, corpus, dictionary, drugs_calltaker['sop'])\n",
    "drugs_call_coherence_cv"
   ]
  },
  {
   "cell_type": "code",
   "execution_count": 17,
   "metadata": {},
   "outputs": [
    {
     "data": {
      "image/png": "[encoded data removed]",
      "text/plain": [
       "<Figure size 864x576 with 1 Axes>"
      ]
     },
     "metadata": {
      "needs_background": "light"
     },
     "output_type": "display_data"
    }
   ],
   "source": [
    "fig, ax = plt.subplots(1, 1, figsize = (12, 8))\n",
    "ax.plot(drugs_call_coherence_cv.loc[:, 'num_topic'].values, \n",
    "        drugs_call_coherence_cv.loc[:, 'coherence_score'].values)\n",
    "ax.set_xlabel('number of topics')\n",
    "ax.set_ylabel('coherence score')\n",
    "ax.set_title('Coherence Score (c_v) vs Number of Topics')\n",
    "plt.show()"
   ]
  },
  {
   "cell_type": "code",
   "execution_count": 18,
   "metadata": {
    "scrolled": true
   },
   "outputs": [
    {
     "name": "stdout",
     "output_type": "stream",
     "text": [
      "LdaModel(num_terms=223, num_topics=4, decay=0.5, chunksize=2000)\n"
     ]
    }
   ],
   "source": [
    "chosen_model_cv = list(drugs_call_coherence_cv.iloc[1:, :].sort_values('coherence_score')['model'])[-1]\n",
    "print(chosen_model_cv)"
   ]
  },
  {
   "cell_type": "code",
   "execution_count": 19,
   "metadata": {},
   "outputs": [
    {
     "data": {
      "text/plain": [
       "[(0,\n",
       "  '0.107*\"animal\" + 0.070*\"refer\" + 0.062*\"create\" + 0.041*\"public\" + 0.025*\"danger\" + 0.024*\"injure\" + 0.023*\"hour\" + 0.023*\"bylaw\" + 0.019*\"safety\" + 0.019*\"leave\"'),\n",
       " (1,\n",
       "  '0.037*\"upgrade\" + 0.037*\"priority\" + 0.029*\"hold\" + 0.019*\"following\" + 0.019*\"enforcement\" + 0.019*\"apply\" + 0.016*\"file\" + 0.016*\"overnight\" + 0.016*\"arrangement\" + 0.016*\"shelter\"'),\n",
       " (2,\n",
       "  '0.005*\"animal\" + 0.005*\"refer\" + 0.005*\"create\" + 0.005*\"public\" + 0.005*\"hour\" + 0.005*\"injure\" + 0.005*\"leave\" + 0.005*\"danger\" + 0.005*\"include\" + 0.005*\"conservation\"'),\n",
       " (3,\n",
       "  '0.140*\"animal\" + 0.063*\"refer\" + 0.051*\"create\" + 0.028*\"control\" + 0.021*\"caller\" + 0.016*\"day\" + 0.016*\"public\" + 0.015*\"dog\" + 0.014*\"owner\" + 0.013*\"conservation\"')]"
      ]
     },
     "execution_count": 19,
     "metadata": {},
     "output_type": "execute_result"
    }
   ],
   "source": [
    "chosen_model_cv.print_topics()"
   ]
  },
  {
   "cell_type": "code",
   "execution_count": 20,
   "metadata": {},
   "outputs": [],
   "source": [
    "model_cv_2 = list(drugs_call_coherence_cv[drugs_call_coherence_cv['num_topic'] == 2]['model'])[0]"
   ]
  },
  {
   "cell_type": "code",
   "execution_count": 21,
   "metadata": {},
   "outputs": [],
   "source": [
    "def get_topic(model, doc):\n",
    "    ppdoc = preprocess(doc)\n",
    "    doc_term_arr = dictionary.doc2bow(ppdoc.split())\n",
    "    return sorted(model[doc_term_arr], \n",
    "                  key = lambda x: x[1], \n",
    "                  reverse = True)[0][0]"
   ]
  },
  {
   "cell_type": "code",
   "execution_count": 22,
   "metadata": {
    "scrolled": false
   },
   "outputs": [],
   "source": [
    "sent = list(drugs_calltaker['sop'])#.append(['aa', 'bb'])\n",
    "sent.append(['This is a test', 'to see if the model works'])\n",
    "# sent"
   ]
  },
  {
   "cell_type": "code",
   "execution_count": 23,
   "metadata": {},
   "outputs": [
    {
     "data": {
      "text/plain": [
       "'animal bite create animal leave vehicle animal imminent danger create animal imminent danger refer bear activity create upgrade priority dog large run loose pose public safety risk create dog pose public safety risk refer spca barking unusual behaviour dog suspicious circumstance sop unusual behavior dog refer bylaw deceased animal create traffic hazard refer unsure consult watch commander cleanup residential street refer cleanup highway refer main road injure marine animal include seal whale refer rescue center animal leave hour neglect injure animal contact spca office animal include freeway snake livestock large create refer livestock wild animal animal exhibit aggressive behavior animal locate public area park school public child danger create animal injure public safety concern refer conservation wild animal report refer conservation'"
      ]
     },
     "execution_count": 23,
     "metadata": {},
     "output_type": "execute_result"
    }
   ],
   "source": [
    "preprocess(list(drugs_calltaker['sop'])[2])"
   ]
  },
  {
   "cell_type": "code",
   "execution_count": 24,
   "metadata": {
    "scrolled": false
   },
   "outputs": [
    {
     "data": {
      "text/plain": [
       "[(0, 0.9945328)]"
      ]
     },
     "execution_count": 24,
     "metadata": {},
     "output_type": "execute_result"
    }
   ],
   "source": [
    "ppsent = preprocess(sent[1])\n",
    "doc_term_arr = dictionary.doc2bow(ppsent.split())\n",
    "chosen_model_cv[doc_term_arr]\n",
    "# doc_term_arr"
   ]
  },
  {
   "cell_type": "code",
   "execution_count": 25,
   "metadata": {
    "scrolled": false
   },
   "outputs": [
    {
     "data": {
      "text/plain": [
       "[3, 0, 0, 3, 0, 3, 0, 0, 0, 0, 0, 0, 0, 3, 0, 0, 1]"
      ]
     },
     "execution_count": 25,
     "metadata": {},
     "output_type": "execute_result"
    }
   ],
   "source": [
    "list(map(lambda x: get_topic(chosen_model_cv, list(x)), sent))"
   ]
  },
  {
   "cell_type": "code",
   "execution_count": 26,
   "metadata": {},
   "outputs": [],
   "source": [
    "# umass_6 = list(drugs_call_coherence_umass[drugs_call_coherence_umass['num_topic'] == 4]['model'])[0]\n",
    "# print(umass_6)\n",
    "# list(map(lambda x: get_topic(umass_6, list(x)), sent))"
   ]
  },
  {
   "cell_type": "code",
   "execution_count": 27,
   "metadata": {
    "scrolled": false
   },
   "outputs": [
    {
     "data": {
      "image/png": "[encoded data removed]",
      "text/plain": [
       "<Figure size 864x576 with 1 Axes>"
      ]
     },
     "metadata": {
      "needs_background": "light"
     },
     "output_type": "display_data"
    }
   ],
   "source": [
    "drugs_call_coherence_umass = topics_with_coherence(doc_term_matrix, corpus, dictionary, \n",
    "                                                   drugs_calltaker['sop'], coherence = 'u_mass')\n",
    "fig, ax = plt.subplots(1, 1, figsize = (12, 8))\n",
    "ax.plot(drugs_call_coherence_umass.loc[:, 'num_topic'].values, \n",
    "        drugs_call_coherence_umass.loc[:, 'coherence_score'].values)\n",
    "ax.set_xlabel('number of topics')\n",
    "ax.set_ylabel('coherence score')\n",
    "ax.set_title('Coherence Score (u_mass) vs Number of Topics')\n",
    "plt.show()"
   ]
  },
  {
   "cell_type": "code",
   "execution_count": 28,
   "metadata": {
    "scrolled": false
   },
   "outputs": [
    {
     "data": {
      "image/png": "[encoded data removed]",
      "text/plain": [
       "<Figure size 864x576 with 1 Axes>"
      ]
     },
     "metadata": {
      "needs_background": "light"
     },
     "output_type": "display_data"
    }
   ],
   "source": [
    "drugs_call_coherence_cuci = topics_with_coherence(doc_term_matrix, corpus, dictionary, \n",
    "                                              drugs_calltaker['sop'], coherence = 'c_uci')\n",
    "fig, ax = plt.subplots(1, 1, figsize = (12, 8))\n",
    "ax.plot(drugs_call_coherence_cuci.loc[:, 'num_topic'].values, \n",
    "        drugs_call_coherence_cuci.loc[:, 'coherence_score'].values)\n",
    "ax.set_xlabel('number of topics')\n",
    "ax.set_ylabel('coherence score')\n",
    "ax.set_title('Coherence Score (c_uci) vs Number of Topics')\n",
    "plt.show()"
   ]
  },
  {
   "cell_type": "code",
   "execution_count": 29,
   "metadata": {},
   "outputs": [
    {
     "data": {
      "image/png": "[encoded data removed]",
      "text/plain": [
       "<Figure size 864x576 with 1 Axes>"
      ]
     },
     "metadata": {
      "needs_background": "light"
     },
     "output_type": "display_data"
    }
   ],
   "source": [
    "drugs_call_coherence_cnpmi = topics_with_coherence(doc_term_matrix, corpus, dictionary, \n",
    "                                        drugs_calltaker['sop'], coherence = 'c_npmi')\n",
    "fig, ax = plt.subplots(1, 1, figsize = (12, 8))\n",
    "ax.plot(drugs_call_coherence_cnpmi.loc[:, 'num_topic'].values, \n",
    "        drugs_call_coherence_cnpmi.loc[:, 'coherence_score'].values)\n",
    "ax.set_xlabel('number of topics')\n",
    "ax.set_ylabel('coherence score')\n",
    "ax.set_title('Coherence Score (c_npmi) vs Number of Topics')\n",
    "plt.show()"
   ]
  },
  {
   "cell_type": "markdown",
   "metadata": {},
   "source": [
    "#### Reflection of DRUGS coherence score\n",
    "- the coherence score is very high for the one-topic model\n",
    "- this makes sense, because we are looking at docs under the same type \"DRUGS\"\n",
    "\n",
    "#### Question\n",
    "- While the model assigns the documents with the correct topic, does this necessarily mean the documents are similar enough to be consolicated?\n",
    "- LDA in not stable.  How will this instability affect us?"
   ]
  },
  {
   "cell_type": "code",
   "execution_count": 30,
   "metadata": {},
   "outputs": [],
   "source": [
    "# os.listdir('.')"
   ]
  },
  {
   "cell_type": "code",
   "execution_count": 31,
   "metadata": {},
   "outputs": [],
   "source": [
    "# json_dir = '../data/interim'\n",
    "# os.chdir(json_dir)\n",
    "# all_sop = os.listdir('.')\n",
    "# print(all_sop)"
   ]
  },
  {
   "cell_type": "code",
   "execution_count": 32,
   "metadata": {},
   "outputs": [],
   "source": [
    "# def load_sop_json(filename):\n",
    "#     cwd = os.getcwd()\n",
    "#     os.chdir(notebook_dir)\n",
    "#     with open(f'../data/interim/{filename}') as f:\n",
    "#         one_type = json.load(f)\n",
    "#     f.close()\n",
    "#     os.chdir(cwd)\n",
    "#     return one_type"
   ]
  },
  {
   "cell_type": "code",
   "execution_count": 33,
   "metadata": {
    "scrolled": true
   },
   "outputs": [],
   "source": [
    "# juris_all, roles_all, sops_all = list(), list(), list()\n",
    "# for filename in all_sop:\n",
    "#     one_type = load_sop_json(filename)\n",
    "#     for juri, dct in one_type.items():\n",
    "#         for role, sop in dct.items():\n",
    "#             juris_all.append(juri)\n",
    "#             roles_all.append(role)\n",
    "#             sops_all.append(sop)\n",
    "# alldf = pd.DataFrame({'juri': juris_all, 'role': roles_all, 'sop': sops_all})\n",
    "# alldf"
   ]
  },
  {
   "cell_type": "code",
   "execution_count": 34,
   "metadata": {},
   "outputs": [],
   "source": [
    "# alldf.iloc[0, :]['sop']"
   ]
  },
  {
   "cell_type": "code",
   "execution_count": 35,
   "metadata": {},
   "outputs": [],
   "source": [
    "# dt_matrix_all, corpus_all, dictionary_all = get_dct_dtmatrix(sops_all)"
   ]
  },
  {
   "cell_type": "code",
   "execution_count": 36,
   "metadata": {},
   "outputs": [],
   "source": [
    "# all_coherence = topics_with_coherence(dt_matrix_all, corpus_all, dictionary_all, N = 20)"
   ]
  },
  {
   "cell_type": "code",
   "execution_count": 37,
   "metadata": {},
   "outputs": [],
   "source": [
    "# all_coherence"
   ]
  },
  {
   "cell_type": "code",
   "execution_count": 38,
   "metadata": {},
   "outputs": [],
   "source": [
    "# plt.figure(figsize = (12, 8))\n",
    "# plt.plot(all_coherence.loc[:, 'num_topic'].values, all_coherence.loc[:, 'coherence_score'].values)\n",
    "# plt.show()"
   ]
  },
  {
   "cell_type": "code",
   "execution_count": null,
   "metadata": {},
   "outputs": [],
   "source": []
  }
 ],
 "metadata": {
  "kernelspec": {
   "display_name": "Python 3",
   "language": "python",
   "name": "python3"
  },
  "language_info": {
   "codemirror_mode": {
    "name": "ipython",
    "version": 3
   },
   "file_extension": ".py",
   "mimetype": "text/x-python",
   "name": "python",
   "nbconvert_exporter": "python",
   "pygments_lexer": "ipython3",
   "version": "3.7.6"
  }
 },
 "nbformat": 4,
 "nbformat_minor": 4
}
