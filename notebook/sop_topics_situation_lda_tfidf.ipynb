{
 "cells": [
  {
   "cell_type": "code",
   "execution_count": 1,
   "metadata": {},
   "outputs": [],
   "source": [
    "import os\n",
    "import json\n",
    "from docx import Document\n",
    "from io import StringIO, BytesIO\n",
    "import re\n",
    "import time\n",
    "import datetime\n",
    "\n",
    "import pandas as pd\n",
    "import json\n",
    "import spacy\n",
    "from nltk.corpus import stopwords\n",
    "\n",
    "from gensim.models import LdaModel\n",
    "from gensim.models.wrappers import LdaMallet\n",
    "import gensim.corpora as corpora\n",
    "from gensim.corpora import Dictionary\n",
    "from gensim import matutils, models\n",
    "from gensim.models import CoherenceModel, TfidfModel, HdpModel\n",
    "from gensim.models.phrases import Phrases, Phraser\n",
    "import pyLDAvis.gensim\n",
    "\n",
    "from docx import Document\n",
    "from io import StringIO, BytesIO\n",
    "import matplotlib.pyplot as plt\n",
    "%matplotlib inline\n",
    "plt.rcParams.update({'font.size': 14, 'lines.linewidth': 3})"
   ]
  },
  {
   "cell_type": "code",
   "execution_count": 2,
   "metadata": {},
   "outputs": [],
   "source": [
    "nlp = spacy.load(\"en_core_web_sm\")\n",
    "# stop_words = set(stopwords.words('english'))"
   ]
  },
  {
   "cell_type": "code",
   "execution_count": 3,
   "metadata": {
    "scrolled": true
   },
   "outputs": [],
   "source": [
    "notebook_dir = os.getcwd()\n",
    "situ_df = pd.read_csv('../data/interim/calltaker_situation.csv', \n",
    "                      keep_default_na = False, \n",
    "                     converters = {'sop': eval})"
   ]
  },
  {
   "cell_type": "code",
   "execution_count": 4,
   "metadata": {},
   "outputs": [
    {
     "data": {
      "text/html": [
       "<div>\n",
       "<style scoped>\n",
       "    .dataframe tbody tr th:only-of-type {\n",
       "        vertical-align: middle;\n",
       "    }\n",
       "\n",
       "    .dataframe tbody tr th {\n",
       "        vertical-align: top;\n",
       "    }\n",
       "\n",
       "    .dataframe thead th {\n",
       "        text-align: right;\n",
       "    }\n",
       "</style>\n",
       "<table border=\"1\" class=\"dataframe\">\n",
       "  <thead>\n",
       "    <tr style=\"text-align: right;\">\n",
       "      <th></th>\n",
       "      <th>role</th>\n",
       "      <th>situation</th>\n",
       "      <th>sop</th>\n",
       "      <th>filename</th>\n",
       "    </tr>\n",
       "  </thead>\n",
       "  <tbody>\n",
       "    <tr>\n",
       "      <th>0</th>\n",
       "      <td>call taker</td>\n",
       "      <td>CBSA alarm policy</td>\n",
       "      <td>[Listen to alarm, Acknowledge the alarm by pre...</td>\n",
       "      <td>DE - 1033 - Officer in trouble.docx</td>\n",
       "    </tr>\n",
       "    <tr>\n",
       "      <th>1</th>\n",
       "      <td>call taker</td>\n",
       "      <td>All other DOMI reports</td>\n",
       "      <td>[Create a call in every instance. Do not cance...</td>\n",
       "      <td>AB - DOMI - Domestic in progress.docx</td>\n",
       "    </tr>\n",
       "    <tr>\n",
       "      <th>2</th>\n",
       "      <td>call taker</td>\n",
       "      <td>GPS Panic Alarms</td>\n",
       "      <td>[Create a call, Remain on the line recording a...</td>\n",
       "      <td>AB - DOMI - Domestic in progress.docx</td>\n",
       "    </tr>\n",
       "    <tr>\n",
       "      <th>3</th>\n",
       "      <td>call taker</td>\n",
       "      <td>Address Obtained</td>\n",
       "      <td>[Run address on QBA:, If the person is negativ...</td>\n",
       "      <td>AB - FOUNDP - Found Person.docx</td>\n",
       "    </tr>\n",
       "    <tr>\n",
       "      <th>4</th>\n",
       "      <td>call taker</td>\n",
       "      <td>Name or medic alert is known</td>\n",
       "      <td>[Run name on CPIC, If the person is negative o...</td>\n",
       "      <td>AB - FOUNDP - Found Person.docx</td>\n",
       "    </tr>\n",
       "    <tr>\n",
       "      <th>...</th>\n",
       "      <td>...</td>\n",
       "      <td>...</td>\n",
       "      <td>...</td>\n",
       "      <td>...</td>\n",
       "    </tr>\n",
       "    <tr>\n",
       "      <th>3589</th>\n",
       "      <td>call taker</td>\n",
       "      <td>All Other DVERS personal residential alarms</td>\n",
       "      <td>[Create a call, Check hazards which will show ...</td>\n",
       "      <td>AB - ALARMD - Domestic violence alarm.docx</td>\n",
       "    </tr>\n",
       "    <tr>\n",
       "      <th>3590</th>\n",
       "      <td>call taker</td>\n",
       "      <td>DVERS Alarm maintenance</td>\n",
       "      <td>[See “Assist GP”  for a stand by keep the peac...</td>\n",
       "      <td>AB - ALARMD - Domestic violence alarm.docx</td>\n",
       "    </tr>\n",
       "    <tr>\n",
       "      <th>3591</th>\n",
       "      <td>call taker</td>\n",
       "      <td>GPS tracked Panic Alarms</td>\n",
       "      <td>[See AB-DOMI]</td>\n",
       "      <td>AB - ALARMD - Domestic violence alarm.docx</td>\n",
       "    </tr>\n",
       "    <tr>\n",
       "      <th>3592</th>\n",
       "      <td>call taker</td>\n",
       "      <td>DNA Warrant:</td>\n",
       "      <td>[See WARRAN (Warrants) SOP]</td>\n",
       "      <td>NW - DNA - DNA collection .docx</td>\n",
       "    </tr>\n",
       "    <tr>\n",
       "      <th>3593</th>\n",
       "      <td>call taker</td>\n",
       "      <td>DNA Warrant:</td>\n",
       "      <td>[See WARRAN (Warrants) SOP]</td>\n",
       "      <td>RI - DNA - DNA collection.docx</td>\n",
       "    </tr>\n",
       "  </tbody>\n",
       "</table>\n",
       "<p>3594 rows × 4 columns</p>\n",
       "</div>"
      ],
      "text/plain": [
       "            role                                    situation  \\\n",
       "0     call taker                            CBSA alarm policy   \n",
       "1     call taker                       All other DOMI reports   \n",
       "2     call taker                             GPS Panic Alarms   \n",
       "3     call taker                             Address Obtained   \n",
       "4     call taker                 Name or medic alert is known   \n",
       "...          ...                                          ...   \n",
       "3589  call taker  All Other DVERS personal residential alarms   \n",
       "3590  call taker                      DVERS Alarm maintenance   \n",
       "3591  call taker                     GPS tracked Panic Alarms   \n",
       "3592  call taker                                 DNA Warrant:   \n",
       "3593  call taker                                 DNA Warrant:   \n",
       "\n",
       "                                                    sop  \\\n",
       "0     [Listen to alarm, Acknowledge the alarm by pre...   \n",
       "1     [Create a call in every instance. Do not cance...   \n",
       "2     [Create a call, Remain on the line recording a...   \n",
       "3     [Run address on QBA:, If the person is negativ...   \n",
       "4     [Run name on CPIC, If the person is negative o...   \n",
       "...                                                 ...   \n",
       "3589  [Create a call, Check hazards which will show ...   \n",
       "3590  [See “Assist GP”  for a stand by keep the peac...   \n",
       "3591                                      [See AB-DOMI]   \n",
       "3592                        [See WARRAN (Warrants) SOP]   \n",
       "3593                        [See WARRAN (Warrants) SOP]   \n",
       "\n",
       "                                        filename  \n",
       "0            DE - 1033 - Officer in trouble.docx  \n",
       "1          AB - DOMI - Domestic in progress.docx  \n",
       "2          AB - DOMI - Domestic in progress.docx  \n",
       "3                AB - FOUNDP - Found Person.docx  \n",
       "4                AB - FOUNDP - Found Person.docx  \n",
       "...                                          ...  \n",
       "3589  AB - ALARMD - Domestic violence alarm.docx  \n",
       "3590  AB - ALARMD - Domestic violence alarm.docx  \n",
       "3591  AB - ALARMD - Domestic violence alarm.docx  \n",
       "3592             NW - DNA - DNA collection .docx  \n",
       "3593              RI - DNA - DNA collection.docx  \n",
       "\n",
       "[3594 rows x 4 columns]"
      ]
     },
     "execution_count": 4,
     "metadata": {},
     "output_type": "execute_result"
    }
   ],
   "source": [
    "# situ_df = situ_df[situ_df['situation'].str.len() > 0].reset_index(drop = True)\n",
    "situ_df"
   ]
  },
  {
   "cell_type": "code",
   "execution_count": 5,
   "metadata": {},
   "outputs": [],
   "source": [
    "def preprocess(strlist,\n",
    "               min_token_len = 2,\n",
    "               allowed_pos = ['ADV', 'ADJ', 'VERB', 'NOUN', 'PART', 'NUM', 'PROPN']): \n",
    "    removal = ['-', r'i\\.e\\.']\n",
    "    res = list()\n",
    "    not_stopword = {'call'}\n",
    "    for string in strlist:\n",
    "        text = re.sub(r\"|\".join(removal), ' ', string.lower())\n",
    "        doc = nlp(text)\n",
    "        res += [token.lemma_ for token in doc \\\n",
    "               if token.pos_ in allowed_pos \\\n",
    "               # Spacy considers 'call' as a stop word, which is not suitable for our case\n",
    "               and (token.text in not_stopword or not token.is_stop) \\\n",
    "#                and token.text not in stop_words \\              \n",
    "#                and token.is_alpha \\\n",
    "               and len(token.lemma_) > min_token_len\n",
    "               ]\n",
    "    \n",
    "    return ' '.join(res)"
   ]
  },
  {
   "cell_type": "code",
   "execution_count": 6,
   "metadata": {},
   "outputs": [],
   "source": [
    "def get_dct_dtmatrix(sops):\n",
    "    corpus = [sop.split() for sop in map(preprocess, sops)]\n",
    "#     phrases = Phrases(corpus, min_count = 1, threshold = 1)\n",
    "#     bigram = Phraser(phrases)\n",
    "#     corpus = bigram(corpus)\n",
    "    dictionary = corpora.Dictionary(corpus)\n",
    "    doc_term_matrix = [dictionary.doc2bow(doc) for doc in corpus]\n",
    "    return doc_term_matrix, corpus, dictionary"
   ]
  },
  {
   "cell_type": "code",
   "execution_count": 7,
   "metadata": {},
   "outputs": [],
   "source": [
    "doc_term_bow, corpus, dictionary = get_dct_dtmatrix(situ_df['sop'])"
   ]
  },
  {
   "cell_type": "code",
   "execution_count": 8,
   "metadata": {},
   "outputs": [],
   "source": [
    "tfidf_mod = TfidfModel(doc_term_bow)\n",
    "doc_term_tfidf = tfidf_mod[doc_term_bow]"
   ]
  },
  {
   "cell_type": "code",
   "execution_count": 9,
   "metadata": {},
   "outputs": [],
   "source": [
    "def topics_with_coherence(doc_term_matrix, corpus, dictionary, \n",
    "                          passes = 20,\n",
    "                          N = 400, random_state = 2020):\n",
    "    num_topic, ldas, cv_scores, npmi_scores = list(), list(), list(), list()\n",
    "#     doc_term_matrix = [dictionary.doc2bow(doc) for doc in corpus]\n",
    "    for n in range(5, N+1, 5):\n",
    "        lda = models.LdaModel(corpus = doc_term_matrix, \n",
    "                              id2word = dictionary, \n",
    "                              num_topics = n, \n",
    "                              passes = passes, \n",
    "                              random_state = random_state, \n",
    "                              alpha = 'auto')\n",
    "        cv_model = CoherenceModel(\n",
    "            model = lda, \n",
    "            texts = corpus, \n",
    "            dictionary = dictionary, \n",
    "            coherence = 'c_v')\n",
    "        cv_score = cv_model.get_coherence()\n",
    "        \n",
    "        npmi_model = CoherenceModel(\n",
    "            model = lda, \n",
    "            texts = corpus, \n",
    "            dictionary = dictionary, \n",
    "            coherence = 'c_npmi')\n",
    "        npmi_score = npmi_model.get_coherence()\n",
    "        \n",
    "        num_topic.append(n)\n",
    "        ldas.append(lda)\n",
    "        cv_scores.append(cv_score)\n",
    "        npmi_scores.append(npmi_score)\n",
    "    return pd.DataFrame({\n",
    "        'num_topic':num_topic,\n",
    "        'model': ldas,\n",
    "        'c_v': cv_scores,\n",
    "        'c_npmi': npmi_scores\n",
    "    })"
   ]
  },
  {
   "cell_type": "code",
   "execution_count": 10,
   "metadata": {},
   "outputs": [],
   "source": [
    "def save_df(df, name):\n",
    "    filename = '../data/interim/' + name\n",
    "    df.to_csv(filename, index = False)"
   ]
  },
  {
   "cell_type": "code",
   "execution_count": 11,
   "metadata": {},
   "outputs": [],
   "source": [
    "def tune_coherence(doc_term_matrix, corpus, dictionary, N = 400):\n",
    "    coh = topics_with_coherence(doc_term_matrix, corpus, dictionary, N = N)\n",
    "#     name = f'situation_{coherence}_{mdtype}_{num_pass}_{alpha}.csv'\n",
    "#     save_df(coh, name)\n",
    "    return coh"
   ]
  },
  {
   "cell_type": "markdown",
   "metadata": {},
   "source": [
    "__Finding `num_topics` based on coherence score__\n",
    "\n",
    "- The code below takes about 1 hour and half to run\n",
    "\n",
    "```python\n",
    "import datetime\n",
    "t0 = time.time()\n",
    "num_pass, coherence, alpha = 20, 'c_npmi', 'asymmetric'\n",
    "\n",
    "situation_lda_tfidf = tune_coherence(doc_term_tfidf, corpus, dictionary)\n",
    "\n",
    "ellapsed = str(datetime.timedelta(seconds = time.time() - t0))\n",
    "print(f'Time elapse: {ellapsed}')\n",
    "\n",
    "def plot_coh(df, coh_type):\n",
    "    fig, ax = plt.subplots(1, 1, figsize = (12, 3))\n",
    "    ax.plot(df.loc[:, 'num_topic'].values, \n",
    "            df.loc[:, coh_type].values)\n",
    "    ax.set_xlabel('number of topics')\n",
    "    ax.set_ylabel('coherence score')\n",
    "    ax.set_title(f'Coherence Score vs Number of Topics ({coh_type})')\n",
    "    ax.grid()\n",
    "    plt.show()\n",
    "    \n",
    "plot_coh(situation_lda_tfidf, 'c_v')\n",
    "plot_coh(situation_lda_tfidf, 'c_npmi')\n",
    "```\n",
    "\n",
    "- The screenshot of the plot:\n",
    "![](img/situ_lda_coherence_scores.PNG)"
   ]
  },
  {
   "cell_type": "markdown",
   "metadata": {},
   "source": [
    "#### Choose num_topics = 90"
   ]
  },
  {
   "cell_type": "code",
   "execution_count": 98,
   "metadata": {},
   "outputs": [
    {
     "name": "stdout",
     "output_type": "stream",
     "text": [
      "LdaModel(num_terms=1571, num_topics=90, decay=0.5, chunksize=2000)\n"
     ]
    }
   ],
   "source": [
    "# situ_lda_tfidf_best = situation_lda_tfidf[situation_lda_tfidf['num_topic'] == 90]['model'].tolist()[0]\n",
    "situ_lda_tfidf_best = models.LdaModel(\n",
    "    corpus = doc_term_tfidf, \n",
    "    id2word = dictionary, \n",
    "    num_topics = 90, \n",
    "    passes = 20, \n",
    "    random_state = 2020, \n",
    "    alpha = 'auto'\n",
    ")\n",
    "print(situ_lda_tfidf_best)"
   ]
  },
  {
   "cell_type": "code",
   "execution_count": 99,
   "metadata": {},
   "outputs": [],
   "source": [
    "situ_lda_tfidf_best.save('../data/interim/situ_lda_tfidf_best')"
   ]
  },
  {
   "cell_type": "code",
   "execution_count": 19,
   "metadata": {},
   "outputs": [],
   "source": [
    "def get_topic(model, doc):\n",
    "    ppdoc = preprocess(doc)\n",
    "    doc_term_arr = dictionary.doc2bow(ppdoc.split())\n",
    "    doc_term_arr = tfidf_mod[doc_term_arr]\n",
    "    try:\n",
    "        res = sorted(model[doc_term_arr], \n",
    "                      key = lambda x: x[1], \n",
    "                      reverse = True)[0][0]\n",
    "    except:\n",
    "        print(doc)\n",
    "        raise\n",
    "    return res"
   ]
  },
  {
   "cell_type": "code",
   "execution_count": 21,
   "metadata": {},
   "outputs": [],
   "source": [
    "def get_topic_clusters(model):\n",
    "    df = situ_df.copy()\n",
    "    df['topic_id'] = list(map(lambda x: get_topic(model, x), \n",
    "                              df['sop'].tolist()))\n",
    "    return df"
   ]
  },
  {
   "cell_type": "code",
   "execution_count": 75,
   "metadata": {},
   "outputs": [
    {
     "data": {
      "text/html": [
       "<div>\n",
       "<style scoped>\n",
       "    .dataframe tbody tr th:only-of-type {\n",
       "        vertical-align: middle;\n",
       "    }\n",
       "\n",
       "    .dataframe tbody tr th {\n",
       "        vertical-align: top;\n",
       "    }\n",
       "\n",
       "    .dataframe thead th {\n",
       "        text-align: right;\n",
       "    }\n",
       "</style>\n",
       "<table border=\"1\" class=\"dataframe\">\n",
       "  <thead>\n",
       "    <tr style=\"text-align: right;\">\n",
       "      <th></th>\n",
       "      <th>role</th>\n",
       "      <th>situation</th>\n",
       "      <th>sop</th>\n",
       "      <th>filename</th>\n",
       "      <th>topic_id</th>\n",
       "    </tr>\n",
       "  </thead>\n",
       "  <tbody>\n",
       "    <tr>\n",
       "      <th>0</th>\n",
       "      <td>call taker</td>\n",
       "      <td>CBSA alarm policy</td>\n",
       "      <td>[Listen to alarm, Acknowledge the alarm by pre...</td>\n",
       "      <td>DE - 1033 - Officer in trouble.docx</td>\n",
       "      <td>84</td>\n",
       "    </tr>\n",
       "    <tr>\n",
       "      <th>1</th>\n",
       "      <td>call taker</td>\n",
       "      <td>All other DOMI reports</td>\n",
       "      <td>[Create a call in every instance. Do not cance...</td>\n",
       "      <td>AB - DOMI - Domestic in progress.docx</td>\n",
       "      <td>61</td>\n",
       "    </tr>\n",
       "    <tr>\n",
       "      <th>2</th>\n",
       "      <td>call taker</td>\n",
       "      <td>GPS Panic Alarms</td>\n",
       "      <td>[Create a call, Remain on the line recording a...</td>\n",
       "      <td>AB - DOMI - Domestic in progress.docx</td>\n",
       "      <td>84</td>\n",
       "    </tr>\n",
       "    <tr>\n",
       "      <th>3</th>\n",
       "      <td>call taker</td>\n",
       "      <td>Address Obtained</td>\n",
       "      <td>[Run address on QBA:, If the person is negativ...</td>\n",
       "      <td>AB - FOUNDP - Found Person.docx</td>\n",
       "      <td>80</td>\n",
       "    </tr>\n",
       "    <tr>\n",
       "      <th>4</th>\n",
       "      <td>call taker</td>\n",
       "      <td>Name or medic alert is known</td>\n",
       "      <td>[Run name on CPIC, If the person is negative o...</td>\n",
       "      <td>AB - FOUNDP - Found Person.docx</td>\n",
       "      <td>80</td>\n",
       "    </tr>\n",
       "    <tr>\n",
       "      <th>...</th>\n",
       "      <td>...</td>\n",
       "      <td>...</td>\n",
       "      <td>...</td>\n",
       "      <td>...</td>\n",
       "      <td>...</td>\n",
       "    </tr>\n",
       "    <tr>\n",
       "      <th>3589</th>\n",
       "      <td>call taker</td>\n",
       "      <td>All Other DVERS personal residential alarms</td>\n",
       "      <td>[Create a call, Check hazards which will show ...</td>\n",
       "      <td>AB - ALARMD - Domestic violence alarm.docx</td>\n",
       "      <td>85</td>\n",
       "    </tr>\n",
       "    <tr>\n",
       "      <th>3590</th>\n",
       "      <td>call taker</td>\n",
       "      <td>DVERS Alarm maintenance</td>\n",
       "      <td>[See “Assist GP”  for a stand by keep the peac...</td>\n",
       "      <td>AB - ALARMD - Domestic violence alarm.docx</td>\n",
       "      <td>80</td>\n",
       "    </tr>\n",
       "    <tr>\n",
       "      <th>3591</th>\n",
       "      <td>call taker</td>\n",
       "      <td>GPS tracked Panic Alarms</td>\n",
       "      <td>[See AB-DOMI]</td>\n",
       "      <td>AB - ALARMD - Domestic violence alarm.docx</td>\n",
       "      <td>61</td>\n",
       "    </tr>\n",
       "    <tr>\n",
       "      <th>3592</th>\n",
       "      <td>call taker</td>\n",
       "      <td>DNA Warrant:</td>\n",
       "      <td>[See WARRAN (Warrants) SOP]</td>\n",
       "      <td>NW - DNA - DNA collection .docx</td>\n",
       "      <td>57</td>\n",
       "    </tr>\n",
       "    <tr>\n",
       "      <th>3593</th>\n",
       "      <td>call taker</td>\n",
       "      <td>DNA Warrant:</td>\n",
       "      <td>[See WARRAN (Warrants) SOP]</td>\n",
       "      <td>RI - DNA - DNA collection.docx</td>\n",
       "      <td>57</td>\n",
       "    </tr>\n",
       "  </tbody>\n",
       "</table>\n",
       "<p>3594 rows × 5 columns</p>\n",
       "</div>"
      ],
      "text/plain": [
       "            role                                    situation  \\\n",
       "0     call taker                            CBSA alarm policy   \n",
       "1     call taker                       All other DOMI reports   \n",
       "2     call taker                             GPS Panic Alarms   \n",
       "3     call taker                             Address Obtained   \n",
       "4     call taker                 Name or medic alert is known   \n",
       "...          ...                                          ...   \n",
       "3589  call taker  All Other DVERS personal residential alarms   \n",
       "3590  call taker                      DVERS Alarm maintenance   \n",
       "3591  call taker                     GPS tracked Panic Alarms   \n",
       "3592  call taker                                 DNA Warrant:   \n",
       "3593  call taker                                 DNA Warrant:   \n",
       "\n",
       "                                                    sop  \\\n",
       "0     [Listen to alarm, Acknowledge the alarm by pre...   \n",
       "1     [Create a call in every instance. Do not cance...   \n",
       "2     [Create a call, Remain on the line recording a...   \n",
       "3     [Run address on QBA:, If the person is negativ...   \n",
       "4     [Run name on CPIC, If the person is negative o...   \n",
       "...                                                 ...   \n",
       "3589  [Create a call, Check hazards which will show ...   \n",
       "3590  [See “Assist GP”  for a stand by keep the peac...   \n",
       "3591                                      [See AB-DOMI]   \n",
       "3592                        [See WARRAN (Warrants) SOP]   \n",
       "3593                        [See WARRAN (Warrants) SOP]   \n",
       "\n",
       "                                        filename  topic_id  \n",
       "0            DE - 1033 - Officer in trouble.docx        84  \n",
       "1          AB - DOMI - Domestic in progress.docx        61  \n",
       "2          AB - DOMI - Domestic in progress.docx        84  \n",
       "3                AB - FOUNDP - Found Person.docx        80  \n",
       "4                AB - FOUNDP - Found Person.docx        80  \n",
       "...                                          ...       ...  \n",
       "3589  AB - ALARMD - Domestic violence alarm.docx        85  \n",
       "3590  AB - ALARMD - Domestic violence alarm.docx        80  \n",
       "3591  AB - ALARMD - Domestic violence alarm.docx        61  \n",
       "3592             NW - DNA - DNA collection .docx        57  \n",
       "3593              RI - DNA - DNA collection.docx        57  \n",
       "\n",
       "[3594 rows x 5 columns]"
      ]
     },
     "execution_count": 75,
     "metadata": {},
     "output_type": "execute_result"
    }
   ],
   "source": [
    "situ_lda_tfidf_topics = get_topic_clusters(situ_lda_tfidf_best)\n",
    "situ_lda_tfidf_topics"
   ]
  },
  {
   "cell_type": "code",
   "execution_count": 76,
   "metadata": {},
   "outputs": [
    {
     "data": {
      "text/html": [
       "<div>\n",
       "<style scoped>\n",
       "    .dataframe tbody tr th:only-of-type {\n",
       "        vertical-align: middle;\n",
       "    }\n",
       "\n",
       "    .dataframe tbody tr th {\n",
       "        vertical-align: top;\n",
       "    }\n",
       "\n",
       "    .dataframe thead th {\n",
       "        text-align: right;\n",
       "    }\n",
       "</style>\n",
       "<table border=\"1\" class=\"dataframe\">\n",
       "  <thead>\n",
       "    <tr style=\"text-align: right;\">\n",
       "      <th></th>\n",
       "      <th>role</th>\n",
       "      <th>situation</th>\n",
       "      <th>sop</th>\n",
       "      <th>filename</th>\n",
       "      <th>topic_id</th>\n",
       "    </tr>\n",
       "  </thead>\n",
       "  <tbody>\n",
       "    <tr>\n",
       "      <th>0</th>\n",
       "      <td>call taker</td>\n",
       "      <td>Boat, value of boat (only) under $5000</td>\n",
       "      <td>[Transfer to reports]</td>\n",
       "      <td>NW - THEFT.docx</td>\n",
       "      <td>13</td>\n",
       "    </tr>\n",
       "    <tr>\n",
       "      <th>1</th>\n",
       "      <td>call taker</td>\n",
       "      <td>District 1 – Downtown Vancouver Business Impro...</td>\n",
       "      <td>[Create a call whenever DVBIA staff call in to...</td>\n",
       "      <td>VA - PANHA - Panhandler.docx</td>\n",
       "      <td>13</td>\n",
       "    </tr>\n",
       "    <tr>\n",
       "      <th>2</th>\n",
       "      <td>call taker</td>\n",
       "      <td>From Vehicle under $5000</td>\n",
       "      <td>[Transfer to reports]</td>\n",
       "      <td>NW - THEFT.docx</td>\n",
       "      <td>13</td>\n",
       "    </tr>\n",
       "    <tr>\n",
       "      <th>3</th>\n",
       "      <td>call taker</td>\n",
       "      <td>Garbage dumping</td>\n",
       "      <td>[If potentially hazardous material, Refer to t...</td>\n",
       "      <td>VA - MISCH - Mischief.docx</td>\n",
       "      <td>13</td>\n",
       "    </tr>\n",
       "    <tr>\n",
       "      <th>4</th>\n",
       "      <td>call taker</td>\n",
       "      <td>Graffiti</td>\n",
       "      <td>[Graffiti involving hatred, racial, ethnic bia...</td>\n",
       "      <td>VA - MISCH - Mischief.docx</td>\n",
       "      <td>13</td>\n",
       "    </tr>\n",
       "    <tr>\n",
       "      <th>...</th>\n",
       "      <td>...</td>\n",
       "      <td>...</td>\n",
       "      <td>...</td>\n",
       "      <td>...</td>\n",
       "      <td>...</td>\n",
       "    </tr>\n",
       "    <tr>\n",
       "      <th>3589</th>\n",
       "      <td>call taker</td>\n",
       "      <td>With a suspect:</td>\n",
       "      <td>[Create a call]</td>\n",
       "      <td>RI - COUNTERFEIT - Counterfeit Currency.docx</td>\n",
       "      <td>87</td>\n",
       "    </tr>\n",
       "    <tr>\n",
       "      <th>3590</th>\n",
       "      <td>call taker</td>\n",
       "      <td>With time delay, minor injury where BCAS was n...</td>\n",
       "      <td>[Create a call]</td>\n",
       "      <td>DE - MVIINJ - Motor Vehicle Incident with inju...</td>\n",
       "      <td>87</td>\n",
       "    </tr>\n",
       "    <tr>\n",
       "      <th>3591</th>\n",
       "      <td>call taker</td>\n",
       "      <td>With time delay, minor injury where BCAS was n...</td>\n",
       "      <td>[Create a call]</td>\n",
       "      <td>PO - MVIINJ - Motor Vehicle Incident with inju...</td>\n",
       "      <td>87</td>\n",
       "    </tr>\n",
       "    <tr>\n",
       "      <th>3592</th>\n",
       "      <td>call taker</td>\n",
       "      <td>With time delay, minor injury where BCAS was n...</td>\n",
       "      <td>[Create a call]</td>\n",
       "      <td>WV - MVIINJ - Motor Vehicle Incident with inju...</td>\n",
       "      <td>87</td>\n",
       "    </tr>\n",
       "    <tr>\n",
       "      <th>3593</th>\n",
       "      <td>call taker</td>\n",
       "      <td>YVR and all Zone 1</td>\n",
       "      <td>[Create a call]</td>\n",
       "      <td>RI - THEFT.docx</td>\n",
       "      <td>87</td>\n",
       "    </tr>\n",
       "  </tbody>\n",
       "</table>\n",
       "<p>3594 rows × 5 columns</p>\n",
       "</div>"
      ],
      "text/plain": [
       "            role                                          situation  \\\n",
       "0     call taker             Boat, value of boat (only) under $5000   \n",
       "1     call taker  District 1 – Downtown Vancouver Business Impro...   \n",
       "2     call taker                           From Vehicle under $5000   \n",
       "3     call taker                                    Garbage dumping   \n",
       "4     call taker                                           Graffiti   \n",
       "...          ...                                                ...   \n",
       "3589  call taker                                    With a suspect:   \n",
       "3590  call taker  With time delay, minor injury where BCAS was n...   \n",
       "3591  call taker  With time delay, minor injury where BCAS was n...   \n",
       "3592  call taker  With time delay, minor injury where BCAS was n...   \n",
       "3593  call taker                                 YVR and all Zone 1   \n",
       "\n",
       "                                                    sop  \\\n",
       "0                                 [Transfer to reports]   \n",
       "1     [Create a call whenever DVBIA staff call in to...   \n",
       "2                                 [Transfer to reports]   \n",
       "3     [If potentially hazardous material, Refer to t...   \n",
       "4     [Graffiti involving hatred, racial, ethnic bia...   \n",
       "...                                                 ...   \n",
       "3589                                    [Create a call]   \n",
       "3590                                    [Create a call]   \n",
       "3591                                    [Create a call]   \n",
       "3592                                    [Create a call]   \n",
       "3593                                    [Create a call]   \n",
       "\n",
       "                                               filename  topic_id  \n",
       "0                                       NW - THEFT.docx        13  \n",
       "1                          VA - PANHA - Panhandler.docx        13  \n",
       "2                                       NW - THEFT.docx        13  \n",
       "3                            VA - MISCH - Mischief.docx        13  \n",
       "4                            VA - MISCH - Mischief.docx        13  \n",
       "...                                                 ...       ...  \n",
       "3589       RI - COUNTERFEIT - Counterfeit Currency.docx        87  \n",
       "3590  DE - MVIINJ - Motor Vehicle Incident with inju...        87  \n",
       "3591  PO - MVIINJ - Motor Vehicle Incident with inju...        87  \n",
       "3592  WV - MVIINJ - Motor Vehicle Incident with inju...        87  \n",
       "3593                                    RI - THEFT.docx        87  \n",
       "\n",
       "[3594 rows x 5 columns]"
      ]
     },
     "execution_count": 76,
     "metadata": {},
     "output_type": "execute_result"
    }
   ],
   "source": [
    "situ_lda_tfidf_topics = situ_lda_tfidf_topics.sort_values(by = ['topic_id', 'situation'], ignore_index = True)\n",
    "situ_lda_tfidf_topics"
   ]
  },
  {
   "cell_type": "code",
   "execution_count": 77,
   "metadata": {},
   "outputs": [],
   "source": [
    "situ_lda_tfidf_topics.to_csv('../data/interim/situ_topics_lda_tfidf.csv', index = False)"
   ]
  },
  {
   "cell_type": "code",
   "execution_count": 78,
   "metadata": {},
   "outputs": [
    {
     "data": {
      "text/plain": [
       "29"
      ]
     },
     "execution_count": 78,
     "metadata": {},
     "output_type": "execute_result"
    }
   ],
   "source": [
    "len(situ_lda_tfidf_topics['topic_id'].unique())"
   ]
  },
  {
   "cell_type": "code",
   "execution_count": 79,
   "metadata": {
    "scrolled": true
   },
   "outputs": [
    {
     "data": {
      "text/html": [
       "<div>\n",
       "<style scoped>\n",
       "    .dataframe tbody tr th:only-of-type {\n",
       "        vertical-align: middle;\n",
       "    }\n",
       "\n",
       "    .dataframe tbody tr th {\n",
       "        vertical-align: top;\n",
       "    }\n",
       "\n",
       "    .dataframe thead th {\n",
       "        text-align: right;\n",
       "    }\n",
       "</style>\n",
       "<table border=\"1\" class=\"dataframe\">\n",
       "  <thead>\n",
       "    <tr style=\"text-align: right;\">\n",
       "      <th></th>\n",
       "      <th>role</th>\n",
       "      <th>situation</th>\n",
       "      <th>sop</th>\n",
       "      <th>filename</th>\n",
       "      <th>topic_id</th>\n",
       "    </tr>\n",
       "  </thead>\n",
       "  <tbody>\n",
       "    <tr>\n",
       "      <th>0</th>\n",
       "      <td>call taker</td>\n",
       "      <td>Boat, value of boat (only) under $5000</td>\n",
       "      <td>[Transfer to reports]</td>\n",
       "      <td>NW - THEFT.docx</td>\n",
       "      <td>13</td>\n",
       "    </tr>\n",
       "    <tr>\n",
       "      <th>1</th>\n",
       "      <td>call taker</td>\n",
       "      <td>District 1 – Downtown Vancouver Business Impro...</td>\n",
       "      <td>[Create a call whenever DVBIA staff call in to...</td>\n",
       "      <td>VA - PANHA - Panhandler.docx</td>\n",
       "      <td>13</td>\n",
       "    </tr>\n",
       "    <tr>\n",
       "      <th>2</th>\n",
       "      <td>call taker</td>\n",
       "      <td>From Vehicle under $5000</td>\n",
       "      <td>[Transfer to reports]</td>\n",
       "      <td>NW - THEFT.docx</td>\n",
       "      <td>13</td>\n",
       "    </tr>\n",
       "    <tr>\n",
       "      <th>3</th>\n",
       "      <td>call taker</td>\n",
       "      <td>Garbage dumping</td>\n",
       "      <td>[If potentially hazardous material, Refer to t...</td>\n",
       "      <td>VA - MISCH - Mischief.docx</td>\n",
       "      <td>13</td>\n",
       "    </tr>\n",
       "    <tr>\n",
       "      <th>4</th>\n",
       "      <td>call taker</td>\n",
       "      <td>Graffiti</td>\n",
       "      <td>[Graffiti involving hatred, racial, ethnic bia...</td>\n",
       "      <td>VA - MISCH - Mischief.docx</td>\n",
       "      <td>13</td>\n",
       "    </tr>\n",
       "    <tr>\n",
       "      <th>...</th>\n",
       "      <td>...</td>\n",
       "      <td>...</td>\n",
       "      <td>...</td>\n",
       "      <td>...</td>\n",
       "      <td>...</td>\n",
       "    </tr>\n",
       "    <tr>\n",
       "      <th>96</th>\n",
       "      <td>call taker</td>\n",
       "      <td>Theft of property from a vehicle after the rec...</td>\n",
       "      <td>[Transfer to the Report Agent]</td>\n",
       "      <td>SQ - RECVEH - Recovered vehicle.docx</td>\n",
       "      <td>13</td>\n",
       "    </tr>\n",
       "    <tr>\n",
       "      <th>97</th>\n",
       "      <td>call taker</td>\n",
       "      <td>Theft of property from a vehicle after the rec...</td>\n",
       "      <td>[Transfer to the Report Agent]</td>\n",
       "      <td>SX - RECVEH - Recovered vehicle.docx</td>\n",
       "      <td>13</td>\n",
       "    </tr>\n",
       "    <tr>\n",
       "      <th>98</th>\n",
       "      <td>call taker</td>\n",
       "      <td>Theft of property from a vehicle after the rec...</td>\n",
       "      <td>[Transfer to the Report Agent]</td>\n",
       "      <td>UN - RECVEH - Recovered vehicle.docx</td>\n",
       "      <td>13</td>\n",
       "    </tr>\n",
       "    <tr>\n",
       "      <th>99</th>\n",
       "      <td>call taker</td>\n",
       "      <td>Theft of property from a vehicle after the rec...</td>\n",
       "      <td>[Transfer to the Report Agent]</td>\n",
       "      <td>WP - RECVEH - Recovered vehicle.docx</td>\n",
       "      <td>13</td>\n",
       "    </tr>\n",
       "    <tr>\n",
       "      <th>100</th>\n",
       "      <td>call taker</td>\n",
       "      <td>Theft of vehicle reported after BNE file has b...</td>\n",
       "      <td>[Transfer to a Report Agent]</td>\n",
       "      <td>VA - THEFTV - Theft of vehicle.docx</td>\n",
       "      <td>13</td>\n",
       "    </tr>\n",
       "  </tbody>\n",
       "</table>\n",
       "<p>101 rows × 5 columns</p>\n",
       "</div>"
      ],
      "text/plain": [
       "           role                                          situation  \\\n",
       "0    call taker             Boat, value of boat (only) under $5000   \n",
       "1    call taker  District 1 – Downtown Vancouver Business Impro...   \n",
       "2    call taker                           From Vehicle under $5000   \n",
       "3    call taker                                    Garbage dumping   \n",
       "4    call taker                                           Graffiti   \n",
       "..          ...                                                ...   \n",
       "96   call taker  Theft of property from a vehicle after the rec...   \n",
       "97   call taker  Theft of property from a vehicle after the rec...   \n",
       "98   call taker  Theft of property from a vehicle after the rec...   \n",
       "99   call taker  Theft of property from a vehicle after the rec...   \n",
       "100  call taker  Theft of vehicle reported after BNE file has b...   \n",
       "\n",
       "                                                   sop  \\\n",
       "0                                [Transfer to reports]   \n",
       "1    [Create a call whenever DVBIA staff call in to...   \n",
       "2                                [Transfer to reports]   \n",
       "3    [If potentially hazardous material, Refer to t...   \n",
       "4    [Graffiti involving hatred, racial, ethnic bia...   \n",
       "..                                                 ...   \n",
       "96                      [Transfer to the Report Agent]   \n",
       "97                      [Transfer to the Report Agent]   \n",
       "98                      [Transfer to the Report Agent]   \n",
       "99                      [Transfer to the Report Agent]   \n",
       "100                       [Transfer to a Report Agent]   \n",
       "\n",
       "                                 filename  topic_id  \n",
       "0                         NW - THEFT.docx        13  \n",
       "1            VA - PANHA - Panhandler.docx        13  \n",
       "2                         NW - THEFT.docx        13  \n",
       "3              VA - MISCH - Mischief.docx        13  \n",
       "4              VA - MISCH - Mischief.docx        13  \n",
       "..                                    ...       ...  \n",
       "96   SQ - RECVEH - Recovered vehicle.docx        13  \n",
       "97   SX - RECVEH - Recovered vehicle.docx        13  \n",
       "98   UN - RECVEH - Recovered vehicle.docx        13  \n",
       "99   WP - RECVEH - Recovered vehicle.docx        13  \n",
       "100   VA - THEFTV - Theft of vehicle.docx        13  \n",
       "\n",
       "[101 rows x 5 columns]"
      ]
     },
     "execution_count": 79,
     "metadata": {},
     "output_type": "execute_result"
    }
   ],
   "source": [
    "situ_lda_tfidf_topic13 = situ_lda_tfidf_topics[situ_lda_tfidf_topics['topic_id'] == 13].copy()\n",
    "situ_lda_tfidf_topic13"
   ]
  },
  {
   "cell_type": "markdown",
   "metadata": {},
   "source": [
    "#### Try clustering in topic 13"
   ]
  },
  {
   "cell_type": "code",
   "execution_count": 80,
   "metadata": {
    "scrolled": true
   },
   "outputs": [
    {
     "data": {
      "text/plain": [
       "(101, 5)"
      ]
     },
     "execution_count": 80,
     "metadata": {},
     "output_type": "execute_result"
    }
   ],
   "source": [
    "situ_lda_tfidf_topic13.shape"
   ]
  },
  {
   "cell_type": "code",
   "execution_count": 81,
   "metadata": {},
   "outputs": [],
   "source": [
    "doc_term_bow_13, corpus_13, dict_13 = get_dct_dtmatrix(situ_lda_tfidf_topic13['sop'])\n",
    "tfidf_mod_13 = TfidfModel(doc_term_bow_13)\n",
    "doc_term_tfidf_13 = tfidf_mod_13[doc_term_bow_13]"
   ]
  },
  {
   "cell_type": "code",
   "execution_count": 82,
   "metadata": {},
   "outputs": [
    {
     "data": {
      "text/plain": [
       "{}"
      ]
     },
     "execution_count": 82,
     "metadata": {},
     "output_type": "execute_result"
    }
   ],
   "source": [
    "dict_13.id2token"
   ]
  },
  {
   "cell_type": "code",
   "execution_count": 83,
   "metadata": {},
   "outputs": [
    {
     "data": {
      "text/plain": [
       "(101, 138)"
      ]
     },
     "execution_count": 83,
     "metadata": {},
     "output_type": "execute_result"
    }
   ],
   "source": [
    "from scipy.sparse import csc_matrix\n",
    "from gensim.matutils import corpus2csc\n",
    "from matplotlib.ticker import MaxNLocator\n",
    "from sklearn.metrics import silhouette_score\n",
    "\n",
    "scipy_tfidf_13 = corpus2csc(doc_term_tfidf_13)\n",
    "tfidf_mtx_13 = csc_matrix(scipy_tfidf_13).T.toarray()\n",
    "tfidf_mtx_13.shape"
   ]
  },
  {
   "cell_type": "code",
   "execution_count": 84,
   "metadata": {},
   "outputs": [],
   "source": [
    "from sklearn.cluster import KMeans\n",
    "kms = list()\n",
    "for k in range(1, 20):\n",
    "    km = KMeans(n_clusters = k).fit(tfidf_mtx_13)\n",
    "    kms.append(km)"
   ]
  },
  {
   "cell_type": "code",
   "execution_count": 85,
   "metadata": {
    "scrolled": true
   },
   "outputs": [
    {
     "data": {
      "image/png": "[encoded data removed]",
      "text/plain": [
       "<Figure size 864x288 with 1 Axes>"
      ]
     },
     "metadata": {
      "needs_background": "light"
     },
     "output_type": "display_data"
    }
   ],
   "source": [
    "fig, ax = plt.subplots(1, 1, figsize = (12, 4))\n",
    "ax.plot(range(1, 20), \n",
    "        [km.inertia_ for km in kms])\n",
    "ax.set_xlabel('k')\n",
    "ax.set_ylabel('inertia')\n",
    "ax.set_title(f'Inertia vs Number of Clusters')\n",
    "ax.xaxis.set_major_locator(MaxNLocator(integer = True))\n",
    "ax.grid()\n",
    "plt.show()"
   ]
  },
  {
   "cell_type": "code",
   "execution_count": 86,
   "metadata": {},
   "outputs": [
    {
     "data": {
      "image/png": "[encoded data removed]",
      "text/plain": [
       "<Figure size 864x288 with 1 Axes>"
      ]
     },
     "metadata": {
      "needs_background": "light"
     },
     "output_type": "display_data"
    }
   ],
   "source": [
    "fig, ax = plt.subplots(1, 1, figsize = (12, 4))\n",
    "ax.plot(range(2, 20), \n",
    "        [silhouette_score(tfidf_mtx_13, kms[k-1].labels_) for k in range(2, 20)])\n",
    "ax.set_xlabel('k')\n",
    "ax.set_ylabel('inertia')\n",
    "ax.set_title(f'Silhouette Score vs Number of Clusters')\n",
    "ax.xaxis.set_major_locator(MaxNLocator(integer = True))\n",
    "ax.grid()\n",
    "plt.show()"
   ]
  },
  {
   "cell_type": "code",
   "execution_count": 87,
   "metadata": {},
   "outputs": [],
   "source": [
    "km6 = KMeans(n_clusters = 6).fit(tfidf_mtx_13)\n",
    "situ_lda_tfidf_topic13['cluster'] = km6.labels_"
   ]
  },
  {
   "cell_type": "code",
   "execution_count": 88,
   "metadata": {
    "scrolled": true
   },
   "outputs": [
    {
     "data": {
      "text/html": [
       "<div>\n",
       "<style scoped>\n",
       "    .dataframe tbody tr th:only-of-type {\n",
       "        vertical-align: middle;\n",
       "    }\n",
       "\n",
       "    .dataframe tbody tr th {\n",
       "        vertical-align: top;\n",
       "    }\n",
       "\n",
       "    .dataframe thead th {\n",
       "        text-align: right;\n",
       "    }\n",
       "</style>\n",
       "<table border=\"1\" class=\"dataframe\">\n",
       "  <thead>\n",
       "    <tr style=\"text-align: right;\">\n",
       "      <th></th>\n",
       "      <th>role</th>\n",
       "      <th>situation</th>\n",
       "      <th>sop</th>\n",
       "      <th>filename</th>\n",
       "      <th>topic_id</th>\n",
       "      <th>cluster</th>\n",
       "    </tr>\n",
       "  </thead>\n",
       "  <tbody>\n",
       "    <tr>\n",
       "      <th>0</th>\n",
       "      <td>call taker</td>\n",
       "      <td>Lost license plate and/or Validation tag</td>\n",
       "      <td>[Transfer call to a Report Agent]</td>\n",
       "      <td>RI - PROP - Property lost, found or seized.docx</td>\n",
       "      <td>13</td>\n",
       "      <td>0</td>\n",
       "    </tr>\n",
       "    <tr>\n",
       "      <th>1</th>\n",
       "      <td>call taker</td>\n",
       "      <td>Lost license plates and Validation tags</td>\n",
       "      <td>[Transfer call to a Report Agent]</td>\n",
       "      <td>UN - PROP - Property lost, found or seized.docx</td>\n",
       "      <td>13</td>\n",
       "      <td>0</td>\n",
       "    </tr>\n",
       "    <tr>\n",
       "      <th>2</th>\n",
       "      <td>call taker</td>\n",
       "      <td>Lost license plates and validation tags</td>\n",
       "      <td>[Transfer call to a Report Agent]</td>\n",
       "      <td>AB - PROP - Property lost, found or seized.docx</td>\n",
       "      <td>13</td>\n",
       "      <td>0</td>\n",
       "    </tr>\n",
       "    <tr>\n",
       "      <th>3</th>\n",
       "      <td>call taker</td>\n",
       "      <td>Lost license plates and validation tags</td>\n",
       "      <td>[Transfer call to a Report Agent]</td>\n",
       "      <td>DE - PROP - Property lost, found or seized.docx</td>\n",
       "      <td>13</td>\n",
       "      <td>0</td>\n",
       "    </tr>\n",
       "    <tr>\n",
       "      <th>4</th>\n",
       "      <td>call taker</td>\n",
       "      <td>Lost license plates and validation tags</td>\n",
       "      <td>[Transfer call to a Report Agent]</td>\n",
       "      <td>PO - PROP - Property lost, found or seized.docx</td>\n",
       "      <td>13</td>\n",
       "      <td>0</td>\n",
       "    </tr>\n",
       "    <tr>\n",
       "      <th>...</th>\n",
       "      <td>...</td>\n",
       "      <td>...</td>\n",
       "      <td>...</td>\n",
       "      <td>...</td>\n",
       "      <td>...</td>\n",
       "      <td>...</td>\n",
       "    </tr>\n",
       "    <tr>\n",
       "      <th>96</th>\n",
       "      <td>call taker</td>\n",
       "      <td>Not in progress - without a suspect</td>\n",
       "      <td>[If any injuries sustained, Refer to RI - MVII...</td>\n",
       "      <td>RI - MVIHR - Hit and Run.docx</td>\n",
       "      <td>13</td>\n",
       "      <td>5</td>\n",
       "    </tr>\n",
       "    <tr>\n",
       "      <th>97</th>\n",
       "      <td>call taker</td>\n",
       "      <td>Not in progress – no suspect</td>\n",
       "      <td>[If there are injuries, Refer to SC – MVIINJ e...</td>\n",
       "      <td>SC - MVIHR - Hit and Run.docx</td>\n",
       "      <td>13</td>\n",
       "      <td>5</td>\n",
       "    </tr>\n",
       "    <tr>\n",
       "      <th>98</th>\n",
       "      <td>call taker</td>\n",
       "      <td>Not in progress – without a suspect plate</td>\n",
       "      <td>[If any injuries sustained, Refer to WV - MVII...</td>\n",
       "      <td>WV - MVIHR - Hit and Run.docx</td>\n",
       "      <td>13</td>\n",
       "      <td>5</td>\n",
       "    </tr>\n",
       "    <tr>\n",
       "      <th>99</th>\n",
       "      <td>call taker</td>\n",
       "      <td>Person non-responsive</td>\n",
       "      <td>[Transfer the caller to BCEHS, Create a call]</td>\n",
       "      <td>PO - SIP - SIPP DIPP.docx</td>\n",
       "      <td>13</td>\n",
       "      <td>5</td>\n",
       "    </tr>\n",
       "    <tr>\n",
       "      <th>100</th>\n",
       "      <td>call taker</td>\n",
       "      <td>Persons who are unresponsive / passed out</td>\n",
       "      <td>[Transfer the caller to BCEHS immediately]</td>\n",
       "      <td>VA - ANNOY - Annoying circumstance.docx</td>\n",
       "      <td>13</td>\n",
       "      <td>5</td>\n",
       "    </tr>\n",
       "  </tbody>\n",
       "</table>\n",
       "<p>101 rows × 6 columns</p>\n",
       "</div>"
      ],
      "text/plain": [
       "           role                                  situation  \\\n",
       "0    call taker   Lost license plate and/or Validation tag   \n",
       "1    call taker    Lost license plates and Validation tags   \n",
       "2    call taker    Lost license plates and validation tags   \n",
       "3    call taker    Lost license plates and validation tags   \n",
       "4    call taker    Lost license plates and validation tags   \n",
       "..          ...                                        ...   \n",
       "96   call taker        Not in progress - without a suspect   \n",
       "97   call taker               Not in progress – no suspect   \n",
       "98   call taker  Not in progress – without a suspect plate   \n",
       "99   call taker                      Person non-responsive   \n",
       "100  call taker  Persons who are unresponsive / passed out   \n",
       "\n",
       "                                                   sop  \\\n",
       "0                    [Transfer call to a Report Agent]   \n",
       "1                    [Transfer call to a Report Agent]   \n",
       "2                    [Transfer call to a Report Agent]   \n",
       "3                    [Transfer call to a Report Agent]   \n",
       "4                    [Transfer call to a Report Agent]   \n",
       "..                                                 ...   \n",
       "96   [If any injuries sustained, Refer to RI - MVII...   \n",
       "97   [If there are injuries, Refer to SC – MVIINJ e...   \n",
       "98   [If any injuries sustained, Refer to WV - MVII...   \n",
       "99       [Transfer the caller to BCEHS, Create a call]   \n",
       "100         [Transfer the caller to BCEHS immediately]   \n",
       "\n",
       "                                            filename  topic_id  cluster  \n",
       "0    RI - PROP - Property lost, found or seized.docx        13        0  \n",
       "1    UN - PROP - Property lost, found or seized.docx        13        0  \n",
       "2    AB - PROP - Property lost, found or seized.docx        13        0  \n",
       "3    DE - PROP - Property lost, found or seized.docx        13        0  \n",
       "4    PO - PROP - Property lost, found or seized.docx        13        0  \n",
       "..                                               ...       ...      ...  \n",
       "96                     RI - MVIHR - Hit and Run.docx        13        5  \n",
       "97                     SC - MVIHR - Hit and Run.docx        13        5  \n",
       "98                     WV - MVIHR - Hit and Run.docx        13        5  \n",
       "99                         PO - SIP - SIPP DIPP.docx        13        5  \n",
       "100          VA - ANNOY - Annoying circumstance.docx        13        5  \n",
       "\n",
       "[101 rows x 6 columns]"
      ]
     },
     "execution_count": 88,
     "metadata": {},
     "output_type": "execute_result"
    }
   ],
   "source": [
    "situ_lda_tfidf_topic13 = situ_lda_tfidf_topic13.sort_values(by = ['topic_id', 'cluster'], ignore_index = True)\n",
    "situ_lda_tfidf_topic13"
   ]
  },
  {
   "cell_type": "code",
   "execution_count": 89,
   "metadata": {},
   "outputs": [],
   "source": [
    "id2token = dict()\n",
    "for k, v in dict_13.token2id.items():\n",
    "    id2token[v] = k"
   ]
  },
  {
   "cell_type": "code",
   "execution_count": 90,
   "metadata": {},
   "outputs": [
    {
     "data": {
      "text/plain": [
       "{}"
      ]
     },
     "execution_count": 90,
     "metadata": {},
     "output_type": "execute_result"
    }
   ],
   "source": [
    "dict_13.id2token"
   ]
  },
  {
   "cell_type": "code",
   "execution_count": 91,
   "metadata": {},
   "outputs": [],
   "source": [
    "cluster_keywords = dict()\n",
    "for icluster, center in enumerate(km6.cluster_centers_):\n",
    "    dim_sorted = zip(center.argsort()[::-1], sorted(center)[::-1])\n",
    "    keywords = list()\n",
    "    for idx, weight in dim_sorted:\n",
    "        if weight < 0.1:\n",
    "            break\n",
    "        keywords.append(id2token[idx])\n",
    "    cluster_keywords[icluster] = keywords"
   ]
  },
  {
   "cell_type": "code",
   "execution_count": 92,
   "metadata": {},
   "outputs": [],
   "source": [
    "from sklearn.metrics.pairwise import cosine_similarity\n",
    "dist = 1 - cosine_similarity(tfidf_mtx_13)"
   ]
  },
  {
   "cell_type": "code",
   "execution_count": 93,
   "metadata": {},
   "outputs": [
    {
     "data": {
      "text/plain": [
       "(101, 2)"
      ]
     },
     "execution_count": 93,
     "metadata": {},
     "output_type": "execute_result"
    }
   ],
   "source": [
    "from sklearn.manifold import MDS\n",
    "mds = MDS(n_components = 2, dissimilarity = 'precomputed', random_state = 2020)\n",
    "repr_2d = mds.fit_transform(dist)\n",
    "repr_2d.shape"
   ]
  },
  {
   "cell_type": "code",
   "execution_count": 94,
   "metadata": {},
   "outputs": [],
   "source": [
    "situ_lda_tfidf_topic13['x'] = repr_2d[:, 0]\n",
    "situ_lda_tfidf_topic13['y'] = repr_2d[:, 1]"
   ]
  },
  {
   "cell_type": "code",
   "execution_count": 95,
   "metadata": {
    "scrolled": true
   },
   "outputs": [
    {
     "data": {
      "text/html": [
       "<div>\n",
       "<style scoped>\n",
       "    .dataframe tbody tr th:only-of-type {\n",
       "        vertical-align: middle;\n",
       "    }\n",
       "\n",
       "    .dataframe tbody tr th {\n",
       "        vertical-align: top;\n",
       "    }\n",
       "\n",
       "    .dataframe thead th {\n",
       "        text-align: right;\n",
       "    }\n",
       "</style>\n",
       "<table border=\"1\" class=\"dataframe\">\n",
       "  <thead>\n",
       "    <tr style=\"text-align: right;\">\n",
       "      <th></th>\n",
       "      <th>role</th>\n",
       "      <th>situation</th>\n",
       "      <th>sop</th>\n",
       "      <th>filename</th>\n",
       "      <th>topic_id</th>\n",
       "      <th>cluster</th>\n",
       "      <th>x</th>\n",
       "      <th>y</th>\n",
       "    </tr>\n",
       "  </thead>\n",
       "  <tbody>\n",
       "    <tr>\n",
       "      <th>0</th>\n",
       "      <td>call taker</td>\n",
       "      <td>Lost license plate and/or Validation tag</td>\n",
       "      <td>[Transfer call to a Report Agent]</td>\n",
       "      <td>RI - PROP - Property lost, found or seized.docx</td>\n",
       "      <td>13</td>\n",
       "      <td>0</td>\n",
       "      <td>0.173484</td>\n",
       "      <td>-0.459776</td>\n",
       "    </tr>\n",
       "    <tr>\n",
       "      <th>1</th>\n",
       "      <td>call taker</td>\n",
       "      <td>Lost license plates and Validation tags</td>\n",
       "      <td>[Transfer call to a Report Agent]</td>\n",
       "      <td>UN - PROP - Property lost, found or seized.docx</td>\n",
       "      <td>13</td>\n",
       "      <td>0</td>\n",
       "      <td>0.470525</td>\n",
       "      <td>0.643923</td>\n",
       "    </tr>\n",
       "    <tr>\n",
       "      <th>2</th>\n",
       "      <td>call taker</td>\n",
       "      <td>Lost license plates and validation tags</td>\n",
       "      <td>[Transfer call to a Report Agent]</td>\n",
       "      <td>AB - PROP - Property lost, found or seized.docx</td>\n",
       "      <td>13</td>\n",
       "      <td>0</td>\n",
       "      <td>0.173484</td>\n",
       "      <td>-0.459776</td>\n",
       "    </tr>\n",
       "    <tr>\n",
       "      <th>3</th>\n",
       "      <td>call taker</td>\n",
       "      <td>Lost license plates and validation tags</td>\n",
       "      <td>[Transfer call to a Report Agent]</td>\n",
       "      <td>DE - PROP - Property lost, found or seized.docx</td>\n",
       "      <td>13</td>\n",
       "      <td>0</td>\n",
       "      <td>-0.722621</td>\n",
       "      <td>-0.105169</td>\n",
       "    </tr>\n",
       "    <tr>\n",
       "      <th>4</th>\n",
       "      <td>call taker</td>\n",
       "      <td>Lost license plates and validation tags</td>\n",
       "      <td>[Transfer call to a Report Agent]</td>\n",
       "      <td>PO - PROP - Property lost, found or seized.docx</td>\n",
       "      <td>13</td>\n",
       "      <td>0</td>\n",
       "      <td>-0.314139</td>\n",
       "      <td>-0.702076</td>\n",
       "    </tr>\n",
       "    <tr>\n",
       "      <th>...</th>\n",
       "      <td>...</td>\n",
       "      <td>...</td>\n",
       "      <td>...</td>\n",
       "      <td>...</td>\n",
       "      <td>...</td>\n",
       "      <td>...</td>\n",
       "      <td>...</td>\n",
       "      <td>...</td>\n",
       "    </tr>\n",
       "    <tr>\n",
       "      <th>96</th>\n",
       "      <td>call taker</td>\n",
       "      <td>Not in progress - without a suspect</td>\n",
       "      <td>[If any injuries sustained, Refer to RI - MVII...</td>\n",
       "      <td>RI - MVIHR - Hit and Run.docx</td>\n",
       "      <td>13</td>\n",
       "      <td>5</td>\n",
       "      <td>0.307955</td>\n",
       "      <td>-0.211256</td>\n",
       "    </tr>\n",
       "    <tr>\n",
       "      <th>97</th>\n",
       "      <td>call taker</td>\n",
       "      <td>Not in progress – no suspect</td>\n",
       "      <td>[If there are injuries, Refer to SC – MVIINJ e...</td>\n",
       "      <td>SC - MVIHR - Hit and Run.docx</td>\n",
       "      <td>13</td>\n",
       "      <td>5</td>\n",
       "      <td>0.307955</td>\n",
       "      <td>-0.211256</td>\n",
       "    </tr>\n",
       "    <tr>\n",
       "      <th>98</th>\n",
       "      <td>call taker</td>\n",
       "      <td>Not in progress – without a suspect plate</td>\n",
       "      <td>[If any injuries sustained, Refer to WV - MVII...</td>\n",
       "      <td>WV - MVIHR - Hit and Run.docx</td>\n",
       "      <td>13</td>\n",
       "      <td>5</td>\n",
       "      <td>0.307955</td>\n",
       "      <td>-0.211256</td>\n",
       "    </tr>\n",
       "    <tr>\n",
       "      <th>99</th>\n",
       "      <td>call taker</td>\n",
       "      <td>Person non-responsive</td>\n",
       "      <td>[Transfer the caller to BCEHS, Create a call]</td>\n",
       "      <td>PO - SIP - SIPP DIPP.docx</td>\n",
       "      <td>13</td>\n",
       "      <td>5</td>\n",
       "      <td>0.307955</td>\n",
       "      <td>-0.211256</td>\n",
       "    </tr>\n",
       "    <tr>\n",
       "      <th>100</th>\n",
       "      <td>call taker</td>\n",
       "      <td>Persons who are unresponsive / passed out</td>\n",
       "      <td>[Transfer the caller to BCEHS immediately]</td>\n",
       "      <td>VA - ANNOY - Annoying circumstance.docx</td>\n",
       "      <td>13</td>\n",
       "      <td>5</td>\n",
       "      <td>0.307955</td>\n",
       "      <td>-0.211256</td>\n",
       "    </tr>\n",
       "  </tbody>\n",
       "</table>\n",
       "<p>101 rows × 8 columns</p>\n",
       "</div>"
      ],
      "text/plain": [
       "           role                                  situation  \\\n",
       "0    call taker   Lost license plate and/or Validation tag   \n",
       "1    call taker    Lost license plates and Validation tags   \n",
       "2    call taker    Lost license plates and validation tags   \n",
       "3    call taker    Lost license plates and validation tags   \n",
       "4    call taker    Lost license plates and validation tags   \n",
       "..          ...                                        ...   \n",
       "96   call taker        Not in progress - without a suspect   \n",
       "97   call taker               Not in progress – no suspect   \n",
       "98   call taker  Not in progress – without a suspect plate   \n",
       "99   call taker                      Person non-responsive   \n",
       "100  call taker  Persons who are unresponsive / passed out   \n",
       "\n",
       "                                                   sop  \\\n",
       "0                    [Transfer call to a Report Agent]   \n",
       "1                    [Transfer call to a Report Agent]   \n",
       "2                    [Transfer call to a Report Agent]   \n",
       "3                    [Transfer call to a Report Agent]   \n",
       "4                    [Transfer call to a Report Agent]   \n",
       "..                                                 ...   \n",
       "96   [If any injuries sustained, Refer to RI - MVII...   \n",
       "97   [If there are injuries, Refer to SC – MVIINJ e...   \n",
       "98   [If any injuries sustained, Refer to WV - MVII...   \n",
       "99       [Transfer the caller to BCEHS, Create a call]   \n",
       "100         [Transfer the caller to BCEHS immediately]   \n",
       "\n",
       "                                            filename  topic_id  cluster  \\\n",
       "0    RI - PROP - Property lost, found or seized.docx        13        0   \n",
       "1    UN - PROP - Property lost, found or seized.docx        13        0   \n",
       "2    AB - PROP - Property lost, found or seized.docx        13        0   \n",
       "3    DE - PROP - Property lost, found or seized.docx        13        0   \n",
       "4    PO - PROP - Property lost, found or seized.docx        13        0   \n",
       "..                                               ...       ...      ...   \n",
       "96                     RI - MVIHR - Hit and Run.docx        13        5   \n",
       "97                     SC - MVIHR - Hit and Run.docx        13        5   \n",
       "98                     WV - MVIHR - Hit and Run.docx        13        5   \n",
       "99                         PO - SIP - SIPP DIPP.docx        13        5   \n",
       "100          VA - ANNOY - Annoying circumstance.docx        13        5   \n",
       "\n",
       "            x         y  \n",
       "0    0.173484 -0.459776  \n",
       "1    0.470525  0.643923  \n",
       "2    0.173484 -0.459776  \n",
       "3   -0.722621 -0.105169  \n",
       "4   -0.314139 -0.702076  \n",
       "..        ...       ...  \n",
       "96   0.307955 -0.211256  \n",
       "97   0.307955 -0.211256  \n",
       "98   0.307955 -0.211256  \n",
       "99   0.307955 -0.211256  \n",
       "100  0.307955 -0.211256  \n",
       "\n",
       "[101 rows x 8 columns]"
      ]
     },
     "execution_count": 95,
     "metadata": {},
     "output_type": "execute_result"
    }
   ],
   "source": [
    "situ_lda_tfidf_topic13"
   ]
  },
  {
   "cell_type": "code",
   "execution_count": 96,
   "metadata": {},
   "outputs": [
    {
     "data": {
      "image/png": "[encoded data removed]",
      "text/plain": [
       "<Figure size 1152x1728 with 1 Axes>"
      ]
     },
     "metadata": {
      "needs_background": "light"
     },
     "output_type": "display_data"
    }
   ],
   "source": [
    "cmap = plt.cm.viridis\n",
    "c_denom = len(situ_lda_tfidf_topic13['cluster'].unique())\n",
    "\n",
    "fig, ax = plt.subplots(1, 1, figsize = (16, 24))\n",
    "ax.scatter(\n",
    "    situ_lda_tfidf_topic13['x'], \n",
    "    situ_lda_tfidf_topic13['y'], \n",
    "    c = cmap(situ_lda_tfidf_topic13['cluster'] / c_denom), \n",
    "    s = 100,\n",
    "    marker = '*'\n",
    ")\n",
    "nrow, _ = situ_lda_tfidf_topic13.shape\n",
    "for i in range(nrow):\n",
    "    row = situ_lda_tfidf_topic13.iloc[i, :]\n",
    "    ax.annotate(row['situation'], (row['x'], row['y']))\n",
    "# ax.set_xlabel('k')\n",
    "# ax.set_ylabel('inertia')\n",
    "# ax.set_title(f'Silhouette Score vs Number of Clusters')\n",
    "# ax.xaxis.set_major_locator(MaxNLocator(integer = True))\n",
    "ax.grid()\n",
    "plt.show()"
   ]
  },
  {
   "cell_type": "code",
   "execution_count": 97,
   "metadata": {},
   "outputs": [
    {
     "ename": "Exception",
     "evalue": "Stop here",
     "output_type": "error",
     "traceback": [
      "\u001b[1;31m---------------------------------------------------------------------------\u001b[0m",
      "\u001b[1;31mException\u001b[0m                                 Traceback (most recent call last)",
      "\u001b[1;32m<ipython-input-97-b0553b8dfe68>\u001b[0m in \u001b[0;36m<module>\u001b[1;34m\u001b[0m\n\u001b[1;32m----> 1\u001b[1;33m \u001b[1;32mraise\u001b[0m \u001b[0mException\u001b[0m\u001b[1;33m(\u001b[0m\u001b[1;34m'Stop here'\u001b[0m\u001b[1;33m)\u001b[0m\u001b[1;33m\u001b[0m\u001b[1;33m\u001b[0m\u001b[0m\n\u001b[0m",
      "\u001b[1;31mException\u001b[0m: Stop here"
     ]
    }
   ],
   "source": [
    "raise Exception('Stop here')"
   ]
  },
  {
   "cell_type": "code",
   "execution_count": null,
   "metadata": {},
   "outputs": [],
   "source": [
    "def func1(patn, lst):\n",
    "    reg = re.findall(patn, ' '.join(lst), re.IGNORECASE)\n",
    "    if reg:\n",
    "        return True\n",
    "    else:\n",
    "        return False\n",
    "    \n",
    "def find_srs_pattern(patn, pd_srs):\n",
    "    return list(map(lambda x: func1(patn, x), pd_srs))\n",
    "\n",
    "situ_lda_tfidf_topics[find_srs_pattern('domi', situ_lda_tfidf_topics['sop'])]"
   ]
  },
  {
   "cell_type": "code",
   "execution_count": null,
   "metadata": {},
   "outputs": [],
   "source": []
  },
  {
   "cell_type": "markdown",
   "metadata": {},
   "source": [
    "## Do not change anything below"
   ]
  },
  {
   "cell_type": "code",
   "execution_count": null,
   "metadata": {},
   "outputs": [],
   "source": [
    "raise Exception('Stop here')"
   ]
  },
  {
   "cell_type": "code",
   "execution_count": null,
   "metadata": {},
   "outputs": [],
   "source": []
  },
  {
   "cell_type": "code",
   "execution_count": null,
   "metadata": {},
   "outputs": [],
   "source": [
    "calltaker_topic = calltaker_all.copy()\n",
    "calltaker_topic['topic_id'] = list(map(lambda x: get_topic(lda_20, x), \n",
    "                                                        calltaker_topic['sop'].values.tolist()))\n",
    "calltaker_topic[calltaker_topic['type'] == '1033']"
   ]
  },
  {
   "cell_type": "code",
   "execution_count": null,
   "metadata": {},
   "outputs": [],
   "source": [
    "calltaker_topic = calltaker_topic.sort_values(by = ['topic_id', 'type', 'juri'], ignore_index = True)\n",
    "calltaker_topic"
   ]
  },
  {
   "cell_type": "code",
   "execution_count": null,
   "metadata": {},
   "outputs": [],
   "source": [
    "call_6 = calltaker_topic[calltaker_topic['topic_id'] == 6]\n",
    "call_6"
   ]
  },
  {
   "cell_type": "code",
   "execution_count": null,
   "metadata": {
    "scrolled": true
   },
   "outputs": [],
   "source": [
    "calltaker_topic['topic_id'].unique()"
   ]
  },
  {
   "cell_type": "code",
   "execution_count": null,
   "metadata": {},
   "outputs": [],
   "source": [
    "unwant = calltaker_topic[calltaker_topic['type'] == 'UNWANT']\n",
    "unwant"
   ]
  },
  {
   "cell_type": "code",
   "execution_count": null,
   "metadata": {},
   "outputs": [],
   "source": [
    "unwant['sop'].values.tolist()[-2:]"
   ]
  },
  {
   "cell_type": "code",
   "execution_count": null,
   "metadata": {},
   "outputs": [],
   "source": [
    "call_6['sop'].values.tolist()[0]"
   ]
  },
  {
   "cell_type": "code",
   "execution_count": null,
   "metadata": {
    "scrolled": true
   },
   "outputs": [],
   "source": [
    "sents = call_6['sop'].tolist()[2]\n",
    "sents[1:3]"
   ]
  },
  {
   "cell_type": "code",
   "execution_count": null,
   "metadata": {},
   "outputs": [],
   "source": [
    "def get_entities(sent):\n",
    "    ent1 = ''\n",
    "    ent2 = ''\n",
    "    prv_tok_dep = ''\n",
    "    prv_tok_txt = ''\n",
    "    prefix = ''\n",
    "    mod = ''\n",
    "    for tok in nlp(sent):\n",
    "        if tok.dep_ != 'punct':\n",
    "            if tok.dep_ == 'compound':\n",
    "                prefix = tok.text\n",
    "                if prv_tok_dep == 'compound':\n",
    "                    prefix = prv_tok_text + ' ' + tok.text\n",
    "            if tok.dep_.endswith('mod'):\n",
    "                modifier = tok.text\n",
    "                if prv_tok_dep == 'compound':\n",
    "                    modifier = prv_tok_text + ' ' + tok.text\n",
    "            if tok.dep_.find('sub'):\n",
    "                ent1 = modifier + ' ' + prefix + ' ' + tok.text\n",
    "                prefix = ''\n",
    "                modifier = ''\n",
    "                prv_tok_dep = ''\n",
    "                prv_tok_text = ''\n",
    "            if tok.dep_.find('obj'):\n",
    "                ent2 = modifier + ' ' + prefix + ' ' + tok.text\n",
    "            \n",
    "            prv_tok_dep = tok.dep_\n",
    "            prv_tok_text = tok.text\n",
    "        return ent1.strip(), ent2.strip()"
   ]
  },
  {
   "cell_type": "code",
   "execution_count": null,
   "metadata": {},
   "outputs": [],
   "source": []
  },
  {
   "cell_type": "code",
   "execution_count": null,
   "metadata": {},
   "outputs": [],
   "source": [
    "# df_call_withtopic = df_dispatcher.copy()\n",
    "# df_call_withtopic.loc[:, 'topic_id'] = list(map(lambda x: get_topic(call_model_cv, x), \n",
    "#                                                 df_calltaker['sop'].values.tolist()))\n",
    "# df_call_withtopic = df_call_withtopic.sort_values(by = ['topic_id', 'juri'], ignore_index = True)"
   ]
  },
  {
   "cell_type": "code",
   "execution_count": null,
   "metadata": {},
   "outputs": [],
   "source": []
  },
  {
   "cell_type": "code",
   "execution_count": null,
   "metadata": {
    "scrolled": true
   },
   "outputs": [],
   "source": [
    "# df_call_withtopic"
   ]
  },
  {
   "cell_type": "code",
   "execution_count": null,
   "metadata": {},
   "outputs": [],
   "source": [
    "# empty = pd.DataFrame()\n",
    "# df1 = pd.DataFrame({'type': ['type1', 'type2'], 'value': [1, 2]})\n",
    "# empty = empty.append(df1)\n",
    "# empty = empty.append(df1)\n",
    "# empty"
   ]
  },
  {
   "cell_type": "markdown",
   "metadata": {},
   "source": [
    "#### Reflection of DRUGS coherence score\n",
    "- the coherence score is very high for the one-topic model\n",
    "- this makes sense, because we are looking at docs under the same type \"DRUGS\"\n",
    "\n",
    "#### Question\n",
    "- While the model assigns the documents with the correct topic, does this necessarily mean the documents are similar enough to be consolicated?\n",
    "- LDA in not stable.  How will this instability affect us?"
   ]
  },
  {
   "cell_type": "code",
   "execution_count": null,
   "metadata": {},
   "outputs": [],
   "source": [
    "type_list = sop_df['type'].values.tolist()\n",
    "type_list[0]"
   ]
  },
  {
   "cell_type": "code",
   "execution_count": null,
   "metadata": {
    "scrolled": true
   },
   "outputs": [],
   "source": [
    "type_list = sop_df['type']\n",
    "res = pd.DataFrame()\n",
    "for event_type in type_list:\n",
    "    dct = load_event(event_type)\n",
    "    event_row = sop_df[sop_df['type'] == event_type]\n",
    "    juri_to_filename = dict(zip(event_row['juri'].values[0], \n",
    "                            event_row['filename'].values[0]))\n",
    "    juris, roles, sops, types = list(), list(), list(), list()\n",
    "    for juri, role_sop in dct.items():\n",
    "        for role, sop in role_sop.items():\n",
    "            juris.append(juri)\n",
    "            roles.append(role)\n",
    "            sops.append(sop)\n",
    "            types.append(event_type)\n",
    "    typedf = pd.DataFrame({'type': types, 'juri': juris, 'role': roles, 'sop': sops})\n",
    "    typedf['filename'] = typedf['juri'].apply(lambda x: juri_to_filename[x])\n",
    "    df_calltaker = typedf[typedf['role'] == 'call taker']\n",
    "    df_dispatcher = typedf[typedf['role'] == 'dispatcher']\n",
    "    print(df_calltaker.shape)\n",
    "    print(df_dispatcher.shape)\n",
    "\n",
    "    for df in [df_calltaker, df_dispatcher]:\n",
    "        if len(df) == 0:\n",
    "            continue\n",
    "        print('Start working on:', event_type, df['role'].unique())\n",
    "        doc_term_matrix, corpus, dictionary = get_dct_dtmatrix(df['sop'])\n",
    "        coherence_cv = topics_with_coherence(doc_term_matrix, corpus, dictionary, \n",
    "                                            df['sop'].values.tolist())\n",
    "        best_model_cv = coherence_cv.iloc[1:, :].sort_values('coherence_score')['model'].tolist()[-1]\n",
    "        df_with_topic = df.copy()\n",
    "        df_with_topic.loc[:, 'topic_id'] = list(map(lambda x: get_topic(best_model_cv, x), \n",
    "                                                        df['sop'].values.tolist()))\n",
    "        df_with_topic = df_with_topic.sort_values(by = ['topic_id', 'juri'], ignore_index = True)\n",
    "        res = res.append(df_with_topic)\n",
    "        print('Finish working on:', event_type, df['role'].unique())"
   ]
  },
  {
   "cell_type": "code",
   "execution_count": null,
   "metadata": {},
   "outputs": [],
   "source": [
    "ress = res.reset_index(drop = True)\n",
    "ress"
   ]
  },
  {
   "cell_type": "code",
   "execution_count": null,
   "metadata": {},
   "outputs": [],
   "source": [
    "from datetime import datetime \n",
    "dt = datetime.now().strftime('%Y-%m-%dT%H_%M_%S')\n",
    "cwd = os.getcwd()\n",
    "os.chdir(notebook_dir)\n",
    "ress.to_csv(f'../data/interim/sop_topics_{dt}.csv', index = False)\n",
    "os.chdir(cwd)"
   ]
  },
  {
   "cell_type": "code",
   "execution_count": null,
   "metadata": {},
   "outputs": [],
   "source": [
    "print(type_list.values.tolist())"
   ]
  },
  {
   "cell_type": "code",
   "execution_count": null,
   "metadata": {},
   "outputs": [],
   "source": [
    "ress[ (ress['type'] == 'MISCH') & (ress['role'] == 'call taker')]"
   ]
  },
  {
   "cell_type": "code",
   "execution_count": null,
   "metadata": {},
   "outputs": [],
   "source": [
    "ress[ (ress['type'] == 'MISCH') & (ress['role'] == 'dispatcher')]"
   ]
  },
  {
   "cell_type": "code",
   "execution_count": null,
   "metadata": {},
   "outputs": [],
   "source": [
    "ress[ (ress['type'] == 'ANIMAL') & (ress['role'] == 'call taker')]"
   ]
  },
  {
   "cell_type": "code",
   "execution_count": null,
   "metadata": {},
   "outputs": [],
   "source": [
    "ress[ (ress['type'] == 'DRUGS') & (ress['role'] == 'call taker')]"
   ]
  },
  {
   "cell_type": "code",
   "execution_count": null,
   "metadata": {},
   "outputs": [],
   "source": [
    "ress[ (ress['type'] == 'DRUGS') & (ress['role'] == 'call taker')]['sop'].values.tolist()[0]"
   ]
  },
  {
   "cell_type": "code",
   "execution_count": null,
   "metadata": {},
   "outputs": [],
   "source": [
    "# all_coherence = topics_with_coherence(dt_matrix_all, corpus_all, dictionary_all, N = 20)"
   ]
  },
  {
   "cell_type": "code",
   "execution_count": null,
   "metadata": {},
   "outputs": [],
   "source": [
    "# all_coherence"
   ]
  },
  {
   "cell_type": "code",
   "execution_count": null,
   "metadata": {},
   "outputs": [],
   "source": [
    "# plt.figure(figsize = (12, 8))\n",
    "# plt.plot(all_coherence.loc[:, 'num_topic'].values, all_coherence.loc[:, 'coherence_score'].values)\n",
    "# plt.show()"
   ]
  },
  {
   "cell_type": "code",
   "execution_count": null,
   "metadata": {},
   "outputs": [],
   "source": []
  }
 ],
 "metadata": {
  "kernelspec": {
   "display_name": "Python 3",
   "language": "python",
   "name": "python3"
  },
  "language_info": {
   "codemirror_mode": {
    "name": "ipython",
    "version": 3
   },
   "file_extension": ".py",
   "mimetype": "text/x-python",
   "name": "python",
   "nbconvert_exporter": "python",
   "pygments_lexer": "ipython3",
   "version": "3.7.6"
  }
 },
 "nbformat": 4,
 "nbformat_minor": 4
}
